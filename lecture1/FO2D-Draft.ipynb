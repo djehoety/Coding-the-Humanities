{
 "cells": [
  {
   "cell_type": "markdown",
   "metadata": {},
   "source": [
    "# Overview\n",
    "-- Inspired on **A Python Course for the Humanities** a course designed by Folgert Karsdorp and Maarten van Gompel [PH], and later version modified by Mike Kestemont and Lars Wieneke [MK]. Other material is taken from ``How to Think Like a Computer Scientist`` [CS]."
   ]
  },
  {
   "cell_type": "markdown",
   "metadata": {},
   "source": [
    "# Coding the Humanities\n",
    "\n",
    "Coding is not a gift but a skill acquired via practice. Coding is neither the preserve of the computer scientists. It has value for almost any type of research, also for the Humanities. But for historians, linguists, philosophers learning how to make efficient use of computers takes more time; programming may, therefore,  seem a frustrating and pointless exercise at the beginning.\n",
    "\n",
    "Practice and persistence, here, is the key to success. Similar to learning a natural language, you only get proficient in coding through exercise. Code, sleep, repeat, this is the mantra of this course, which is extremely hands-on: you will have to write a lot of programming code yourself from the very beginning.\n",
    "\n",
    "The theory is only secondary, more important is that you get the feel for coding. "
   ]
  },
  {
   "cell_type": "markdown",
   "metadata": {},
   "source": [
    "For practising your coding skills, you can use the many 'code blocks' you will encounter below, such as the grey block below. Place your cursor inside the block below and press ``ctrl+enter`` to \"run\" or execute the code. Let's begin right away: run your first little program! [MK]"
   ]
  },
  {
   "cell_type": "code",
   "execution_count": null,
   "metadata": {},
   "outputs": [],
   "source": [
    "print('Hello World!')"
   ]
  },
  {
   "cell_type": "markdown",
   "metadata": {},
   "source": [
    "### Questions:\n",
    "- Can you describe what the programme just did?\n",
    "- Can you adapt it to print your own name? (code block below)"
   ]
  },
  {
   "cell_type": "code",
   "execution_count": null,
   "metadata": {
    "collapsed": true
   },
   "outputs": [],
   "source": [
    "# Insert your own code here!\n",
    "# print your own name ... or whatever you want."
   ]
  },
  {
   "cell_type": "markdown",
   "metadata": {},
   "source": [
    "### What is a program?\n",
    "\n",
    "``A program is a sequence of instructions that specifies how to perform a computation. The computation might be something mathematical, such as solving a system of equations or finding the roots of a polynomial, but it can also be a symbolic computation, such as searching and replacing text in a document or (strangely enough) compiling a program.\n",
    "\n",
    "**input**: Get data from the keyboard, a file, or some other device.\n",
    "\n",
    "**output**: Display data on the screen or send data to a file or other device.\n",
    "\n",
    "**math**: Perform basic mathematical operations like addition and multiplication.\n",
    "\n",
    "**conditional execution**: Check for certain conditions and execute the appropriate sequence of statements.\n",
    "repetition: Perform some action repeatedly, usually with some variation.\n",
    "\n",
    "**repetition**: Perform some action repeatedly, usually with some variation.\n",
    "`` [CS]\n",
    "\n",
    "**Question**: Why is ``print('Hello World!)`` a program?"
   ]
  },
  {
   "cell_type": "markdown",
   "metadata": {},
   "source": [
    "[MK] Apart from printing words to your screen, you can also use Python to do calculations. \n",
    "\n",
    "* Use the code block below to calculate (and print) how many minutes there are in seven weeks? (Hint: multiplication is done using the `*` symbol in Python.)"
   ]
  },
  {
   "cell_type": "code",
   "execution_count": null,
   "metadata": {},
   "outputs": [],
   "source": [
    "# Insert your own code here!\n",
    "# Use Python as a calculator"
   ]
  },
  {
   "cell_type": "markdown",
   "metadata": {},
   "source": [
    "## Teaching Method: Learning at Different Speeds\n",
    "\n",
    "At this point, you may think that, if we continue at this speed, we won't be getting very far. A problem with learning how to code is the distance between obtaining the basics skills and applying them to actual real-world problems.\n",
    "\n",
    "Therefore, we focus both on the basic elements of the programming language we discuss (Python) but also present you with some more advanced use-cases that show you where we are heading with this course. We combine taking small steps (elementary Python) with bigger jumps (higher level functions from external libraries).\n",
    "\n",
    "Instead of following the classic sequence of 'variables', 'conditions', 'iterations' (and only introduce practical application later), we will jump immediately to more practical application such as performing emotion mining a large set of JSON files.\n",
    "\n",
    "So remain **Zen**, and don't worry if everything is immediately clear."
   ]
  },
  {
   "cell_type": "code",
   "execution_count": null,
   "metadata": {},
   "outputs": [],
   "source": [
    "# The Zen of Python. General coding guidelines.\n",
    "import this"
   ]
  },
  {
   "cell_type": "markdown",
   "metadata": {},
   "source": [
    "## The IPython Notebook Environment\n",
    "\n",
    "The document you opened in your browser is an IPython Notebook, an interactive coding environment in your browser. It broadly consists of two different types of cells: ``Code`` and ``Markdown``.\n",
    "** ``Code``** cells are preserved for running Python scripts.\n",
    "** ``Markdown``** cells can be used for adding notes to your Notebook document.\n",
    "\n",
    "\n",
    "**Click here**, the box should be marked by a black rectangle. If you **double click** the original [**Markdown**](https://en.wikipedia.org/wiki/Markdown) syntax appears, and you can add your own text. \n",
    "\n",
    "\n",
    "**Exercise**: Let's try. Enter your name below surrounded by ``**`` (two asterisks) to print it in bold type\n",
    "\n",
    "Hello, my name is [your name here]\n",
    "\n",
    "Then press ``run cell``, or press ``ctrl+enter``"
   ]
  },
  {
   "cell_type": "markdown",
   "metadata": {},
   "source": [
    "You can add a cell by going to\n",
    "``Insert >> Insert Cell Below``\n",
    "\n",
    "An empty cell should appear.\n",
    "\n",
    "**Exercise**: Add two cells below. One for printing you know with the Python ``print`` function. In another you write down your name in in italic (single asterisk) and bold type.\n",
    "\n",
    "You can always delete a cell by clicking on one and going to\n",
    "``Edit >> Delete Cells``"
   ]
  },
  {
   "cell_type": "markdown",
   "metadata": {},
   "source": [
    "# Python and Support Libraries\n",
    "\n",
    "## Python\n",
    "\n",
    "#### **What** is Python?\n",
    "\n",
    "[FROM WIKIPEDIA]Python is a widely used **high-level** programming language for **general-purpose** programming.\n",
    "- **high level programming language**: In computer science, a high-level programming language is a programming language with **strong abstraction from the details of the computer**. In comparison to low-level programming languages, it may use natural language elements, be easier to use, or may automate (or even hide entirely) significant areas of computing systems (e.g. memory management), making the process of developing a program simpler and more understandable relative to a lower-level language. The amount of abstraction provided defines how \"high-level\" a programming language is.\n",
    "\n",
    "\n",
    "#### **Why** Python? [LU+CS]\n",
    "\n",
    "[CS]In general Python is easier to learn and to read. The first example in this Notebook illustrates this point. In the C++ version the hello world programma looks like:\n",
    "``\n",
    "#include <iostream.h>\n",
    "\n",
    "void main()\n",
    "\n",
    "{\n",
    "    \n",
    "    cout << \"Hello, world.\" << endl;\n",
    "\n",
    "}\n",
    "\n",
    "``\n",
    "while in Python version it simply was:\n",
    "\n",
    "``\n",
    "print(\"Hello, world.\")\n",
    "``\n",
    "\n",
    "\n",
    "\n",
    "- Software Quality: Python code is designed to be readable, and hence reusable and maintainable. \n",
    "- Developer Productivity: Python code is typically one-third to one-fifth the size of C++ or Java code. \n",
    "- Portability: Python code runs unchanged on all major computer platforms. \n",
    "- **Support Libraries**: Standard, homegrown and third-party libraries.\n",
    "- **Widely used by the academic and scientific community!**"
   ]
  },
  {
   "cell_type": "markdown",
   "metadata": {},
   "source": [
    "## Pandas"
   ]
  },
  {
   "cell_type": "markdown",
   "metadata": {},
   "source": [
    "An example of such a third-party library that makes Python so powerful is [**Pandas**](https://pandas.pydata.org/), a.k.a. Excel on steroids. Pandas facilitates many data-analysis tasks, and we will use of often below. Please check if you installed Pandas properly by running the cell below."
   ]
  },
  {
   "cell_type": "code",
   "execution_count": null,
   "metadata": {
    "collapsed": true
   },
   "outputs": [],
   "source": [
    "# Check if the Pandas Library is properly install\n",
    "import pandas as pd"
   ]
  },
  {
   "cell_type": "markdown",
   "metadata": {},
   "source": [
    "### Before we start, something about versions\n",
    "Python 2.7 or 3.x?"
   ]
  },
  {
   "cell_type": "code",
   "execution_count": null,
   "metadata": {},
   "outputs": [],
   "source": [
    "# Check version by making Python crash hard.\n",
    "# This press ctrl+enter; this should raise a SyntaxError\n",
    "print \"Hello, World.\""
   ]
  },
  {
   "cell_type": "markdown",
   "metadata": {},
   "source": [
    "### Errors\n",
    "[CS] Programming is a complex process, and because it is done by human beings, \n",
    "it often leads to errors. For whimsical reasons, programming errors are called \n",
    "bugs and the process of tracking them down and correcting them is called\n",
    "debugging.\n",
    "Three kinds of errors can occur in a program: \n",
    "\n",
    "- Syntax errors\n",
    "- Runtime errors\n",
    "- Semantic errors\n",
    "\n",
    "We won't go into details here. More important is to solve these errors. Where to look for help? Generally copy-pasting the Error message in the Google Search Box, will lead you to useful solutions. A very useful resource is [Stack Overflow](https://stackoverflow.com/). For example typing\n",
    "\n",
    "``\n",
    "Stack Overflow SyntaxError: Missing parentheses in call to 'print'.\n",
    "``\n",
    "\n",
    "...will show you the [correct answer](https://stackoverflow.com/questions/25445439/what-does-syntaxerror-missing-parentheses-in-call-to-print-mean-in-python) to your question."
   ]
  },
  {
   "cell_type": "markdown",
   "metadata": {},
   "source": [
    "# Ok, let's start!\n",
    "... for real."
   ]
  },
  {
   "cell_type": "markdown",
   "metadata": {},
   "source": [
    "## Variables, expressions and statements\n",
    "[MK] \n",
    "Below we will have a closer look at the Trump Twitter Archive. We use twitter to study what topics his follower pay more attention to. \n",
    "How can we inspect and process all this candy? To understand this, we first have to introduce some basic Python vocabulary: namely **values, variables, and statements** the elementary building blocks of your eventual programs."
   ]
  },
  {
   "cell_type": "markdown",
   "metadata": {},
   "source": [
    "### Values"
   ]
  },
  {
   "cell_type": "code",
   "execution_count": null,
   "metadata": {
    "collapsed": true
   },
   "outputs": [],
   "source": [
    "# run this cell\n",
    "print(2)\n",
    "print(\"Hello, World!\")\n",
    "print(0.5)"
   ]
  },
  {
   "cell_type": "markdown",
   "metadata": {},
   "source": [
    "[CS] A value is one of the fundamental things like a letter or a number that a program manipulates. The values we have seen so far are 2 (the result when we added 1 + 1), and \"Hello, World!\"."
   ]
  },
  {
   "cell_type": "markdown",
   "metadata": {},
   "source": [
    "### Variables\n",
    "One of the most powerful features of a programming language is the ability to manipulate variables. A variable is a name that refers to a value. The assignment statement creates new variables and relates them to concrete values:"
   ]
  },
  {
   "cell_type": "code",
   "execution_count": null,
   "metadata": {},
   "outputs": [],
   "source": [
    "# declaring a variable\n",
    "x = 'Hello World.'\n",
    "# printing what is in the box\n",
    "print(x)"
   ]
  },
  {
   "cell_type": "code",
   "execution_count": null,
   "metadata": {},
   "outputs": [],
   "source": [
    "# declaring a variable\n",
    "x = 3\n",
    "# printing what is in the box\n",
    "print(x)"
   ]
  },
  {
   "cell_type": "markdown",
   "metadata": {},
   "source": [
    "[MK] If you vaguely remember your math-classes in school, this should look familiar. It is basically the same notation with the name of the variable on the left, the value on the right, and the = sign in the middle. \n",
    "\n",
    "In the code block above, two things happen. First, we fill `x` with a value, in our case `3`. This variable x behaves pretty much like a **box** on which we write an `x` with a thick, black marker to find it back later. We then print the contents of this box, using the `print()` command. \n",
    "\n",
    "* Now copy the outcome of your code calculating the number of minutes in seven weeks and assign this number to `x`. Run the code again.\n",
    "\n",
    "The box metaphor for a variable goes a long way: in such a box you can put whatever value you want, e.g. the number of minutes in seven weeks. When you re-assign a variable, you remove the content of the box and  put something new in it. In Python, the term **'variable'** refers to such a box, whereas the term **'value'** refers to what is inside this box."
   ]
  },
  {
   "cell_type": "code",
   "execution_count": null,
   "metadata": {
    "collapsed": true
   },
   "outputs": [],
   "source": [
    "#can you understand the difference between\n",
    "x = \"x\"\n",
    "y = y\n",
    "y = x\n",
    "# Running this code will produce an error, can you explain why?"
   ]
  },
  {
   "cell_type": "markdown",
   "metadata": {},
   "source": [
    "### Statements and Operators\n",
    "\n",
    "A **statement** is an instruction that the Python interpreter can execute. We have\n",
    "seen two kinds of statements: ``print`` and assignment (``=``)."
   ]
  },
  {
   "cell_type": "code",
   "execution_count": null,
   "metadata": {
    "collapsed": true
   },
   "outputs": [],
   "source": [
    "# write here two statements: a print and an assignment"
   ]
  },
  {
   "cell_type": "markdown",
   "metadata": {},
   "source": [
    "A **script** usually contains a sequence of statements."
   ]
  },
  {
   "cell_type": "markdown",
   "metadata": {},
   "source": [
    "We can transform variables and values by applying operators to them. \n",
    "[CS] The symbols ``+``, ``-``, and ``/``, and the use of parenthesis for grouping, mean in\n",
    "Python what they mean in mathematics. The asterisk ``(*)`` is the symbol for\n",
    "multiplication, and ``**`` is the symbol for exponentiation."
   ]
  },
  {
   "cell_type": "code",
   "execution_count": null,
   "metadata": {},
   "outputs": [],
   "source": [
    "# Using Python as a calculator\n",
    "x = 4\n",
    "y = 2\n",
    "print(x+y)\n",
    "print(x-y)\n",
    "print(x/y)\n",
    "print(x*2)\n",
    "print(y**2)"
   ]
  },
  {
   "cell_type": "markdown",
   "metadata": {},
   "source": [
    "### Types"
   ]
  },
  {
   "cell_type": "markdown",
   "metadata": {},
   "source": [
    "You can see that ``x/y`` is not an integer. Numbers with a \"dot\" are called ``floats``. We won't go into details here but you should be aware that Python includes different \"native\" data types. Why is this important? Try to run the following block."
   ]
  },
  {
   "cell_type": "code",
   "execution_count": null,
   "metadata": {},
   "outputs": [],
   "source": [
    "print(1+\"1\")"
   ]
  },
  {
   "cell_type": "markdown",
   "metadata": {},
   "source": [
    "This shoud raise a TypeError. The error message points out that you can not combine elements with different types. The check if the value belong the the same ``type``. Simply wrap the ``type`` function around the value. At this point you probably won't know what the previous sentence meant, but (to give you the answer), try to run variations of the code in cell below: ``print(type(put any value here))``"
   ]
  },
  {
   "cell_type": "code",
   "execution_count": null,
   "metadata": {
    "collapsed": true
   },
   "outputs": [],
   "source": [
    "# print the type of a value"
   ]
  },
  {
   "cell_type": "markdown",
   "metadata": {},
   "source": [
    "You can force an item to change the type. Run the cell below. Can you explain the differences between first and second print statement?"
   ]
  },
  {
   "cell_type": "code",
   "execution_count": null,
   "metadata": {},
   "outputs": [],
   "source": [
    "print(str(1)+str(\"1\"))\n",
    "print(int(1)+int(\"1\"))"
   ]
  },
  {
   "cell_type": "markdown",
   "metadata": {
    "collapsed": true
   },
   "source": [
    "## difference between strings and numbers"
   ]
  },
  {
   "cell_type": "markdown",
   "metadata": {},
   "source": [
    "Let's have a closer look at the 'str' type (str stands for string)"
   ]
  },
  {
   "cell_type": "code",
   "execution_count": null,
   "metadata": {},
   "outputs": [],
   "source": [
    "first_name = \"Kaspar\"\n",
    "last_name = \"Beelen\"\n",
    "print(first_name+last_name)"
   ]
  },
  {
   "cell_type": "markdown",
   "metadata": {},
   "source": [
    "This the last operation is called string **concatination**."
   ]
  },
  {
   "cell_type": "code",
   "execution_count": null,
   "metadata": {
    "collapsed": true
   },
   "outputs": [],
   "source": [
    "# print last name neatly"
   ]
  },
  {
   "cell_type": "code",
   "execution_count": null,
   "metadata": {
    "collapsed": true
   },
   "outputs": [],
   "source": [
    "# try other operators on the first and last names, what works, what does not? can you explain why?"
   ]
  },
  {
   "cell_type": "markdown",
   "metadata": {},
   "source": [
    "## One last thing before we really, really kick off\n",
    "### Let me introduce to you: The List\n",
    "\n",
    "Instead of assigning a variable to one item (in integer or a string), you can relate to a collection of items, a ``list``---there are more collections in Python, but now we only look at lists. \n",
    "\n",
    "A list is demarcated by squary brackets"
   ]
  },
  {
   "cell_type": "code",
   "execution_count": null,
   "metadata": {
    "collapsed": true
   },
   "outputs": [],
   "source": [
    "# can be a list\n",
    "# defined by square parentheses, items are separated by commas\n",
    "l1 = [1,2,3]\n",
    "l2 = ['my','name','is','kaspar']\n",
    "l3 = ['kaspar','is','gr',8]"
   ]
  },
  {
   "cell_type": "code",
   "execution_count": null,
   "metadata": {
    "scrolled": true
   },
   "outputs": [],
   "source": [
    "print(l2)"
   ]
  },
  {
   "cell_type": "code",
   "execution_count": null,
   "metadata": {
    "collapsed": true
   },
   "outputs": [],
   "source": [
    "# try to assign a variable to a list value. Try to come up with something useful."
   ]
  },
  {
   "cell_type": "markdown",
   "metadata": {},
   "source": [
    "## What we learnt so far [MK]\n",
    "To finish this section, here is an overview of what we have learnt. Go through the list and make sure you understand all the concepts.\n",
    "\n",
    "- variable\n",
    "- value\n",
    "- assignment operator (=)\n",
    "- difference between variables and values\n",
    "- integers vs. floats\n",
    "- operators for multiplication (*), subtraction (-), addition (+), division (/)\n",
    "- string concatination\n",
    "- print()\n"
   ]
  },
  {
   "cell_type": "markdown",
   "metadata": {},
   "source": [
    "# Loading Json Data"
   ]
  },
  {
   "cell_type": "markdown",
   "metadata": {},
   "source": [
    "The previous section covered the most basic elements of Python. You learned how to assign values to variables. A variable is a box that can contain almost anything. Below we will take some bigger steps: instead of strings and integers, we scrutinize a whole corpus of Tweets. Don't worry if the code seems difficult--because it is hard at the first time. The point of this sudden acceleration demonstrates the power of coding, to show you that with relatively few lines of code."
   ]
  },
  {
   "cell_type": "markdown",
   "metadata": {
    "collapsed": true
   },
   "source": [
    "As an example we used all tweets of the current American President. These we obtained via the [Trump Twitter Archive](http://www.trumptwitterarchive.com/archive)."
   ]
  },
  {
   "cell_type": "markdown",
   "metadata": {
    "collapsed": true
   },
   "source": [
    "The database is a [JSON](https://en.wikipedia.org/wiki/JSON) file in which each item is a tweet. The cell below shows the first tweet of the collection. It may seem difficult to read JSON notation, but there are various tools to help you. Go for example to this [JSON viewer](http://jsonviewer.stack.hu/) and copy paste the text into the cell below."
   ]
  },
  {
   "cell_type": "markdown",
   "metadata": {},
   "source": [
    "``{\n",
    "    \"source\":\"Twitter for iPhone\",\n",
    "    \"text\":\"The Tax Cut Bill is coming along very well, great support. With just a few changes, some mathematical, the middle class and job producers can get even more in actual dollars and savings and the pass through provision becomes simpler and really works well!\",\n",
    "    \"created_at\":\"Mon Nov 27 14:24:36 +0000 2017\",\n",
    "    \"retweet_count\":15663,\n",
    "    \"favorite_count\":79868,\n",
    "    \"is_retweet\":false,\n",
    "    \"id_str\":\"935152378747195392\"}``"
   ]
  },
  {
   "cell_type": "markdown",
   "metadata": {},
   "source": [
    "Inspect the JSON file. What information is in there, what is missing? What type of questions could one answer using these data? Just FYI, the information per tweet is actually larger. Inspect the \"example.json\" in the previously mentioned [viewer](http://jsonviewer.stack.hu/)."
   ]
  },
  {
   "cell_type": "markdown",
   "metadata": {},
   "source": [
    "Okay, let's have a closer look at the corpus, which includes all tweets after the inauguration. Pandas is a very useful library to load and interrogate data. Simply run the code below (and relax, you are not supposed to really understand everything, except maybe line 4)."
   ]
  },
  {
   "cell_type": "code",
   "execution_count": null,
   "metadata": {},
   "outputs": [],
   "source": [
    "# import the pandas library`\n",
    "import pandas as pd\n",
    "# read the JSON corpus, or: put all tweets in a box called trump_tweets\n",
    "tweets = pd.read_json('data/trump2.json')\n",
    "# ignore for now, this simply uses the moment of posting as an index\n",
    "tweets.set_index('created_at',inplace=True)\n",
    "# keep only the tweets posted by Trump himself (i.e. exclude retweets)\n",
    "tweets = tweets[tweets.is_retweet==False]\n",
    "# print the first five rows\n",
    "tweets.head(5)"
   ]
  },
  {
   "cell_type": "markdown",
   "metadata": {},
   "source": [
    "With these few lines, you managed to lead the whole corpus of Trump tweets."
   ]
  },
  {
   "cell_type": "code",
   "execution_count": null,
   "metadata": {
    "collapsed": true
   },
   "outputs": [],
   "source": [
    "# Exercise 1: print the first 10 rows\n",
    "# Exercise 2: What is the type of the tweets variable?"
   ]
  },
  {
   "cell_type": "code",
   "execution_count": null,
   "metadata": {
    "collapsed": true,
    "scrolled": true
   },
   "outputs": [],
   "source": [
    "# Exercise 2:You can count the number of tweets \n",
    "# by wrapping the \"len()\" function around the \"tweets\" variable. Try it!"
   ]
  },
  {
   "cell_type": "markdown",
   "metadata": {},
   "source": [
    "## Exploring Data"
   ]
  },
  {
   "cell_type": "markdown",
   "metadata": {},
   "source": [
    "Pandas allows you to inspect the data with the help of some descriptive statistics and plots. Run the cell below, otherwise the plots won't appear in the Notebook."
   ]
  },
  {
   "cell_type": "code",
   "execution_count": null,
   "metadata": {},
   "outputs": [],
   "source": [
    "tweets.describe()"
   ]
  },
  {
   "cell_type": "markdown",
   "metadata": {},
   "source": [
    "Does this table give you an overview of the whole dataset?"
   ]
  },
  {
   "cell_type": "code",
   "execution_count": null,
   "metadata": {
    "collapsed": true
   },
   "outputs": [],
   "source": [
    "# Run this cell to plot all figures in the Notebook\n",
    "%matplotlib inline"
   ]
  },
  {
   "cell_type": "markdown",
   "metadata": {},
   "source": [
    "An easy way to study the popularity of Trump is to plot the number of retweets over time"
   ]
  },
  {
   "cell_type": "code",
   "execution_count": null,
   "metadata": {},
   "outputs": [],
   "source": [
    "# Get the summary statistics for the retweet_count column\n",
    "tweets.retweet_count.describe()"
   ]
  },
  {
   "cell_type": "code",
   "execution_count": null,
   "metadata": {},
   "outputs": [],
   "source": [
    "# Plot retweets over time\n",
    "tweets['retweet_count'].plot()"
   ]
  },
  {
   "cell_type": "code",
   "execution_count": null,
   "metadata": {},
   "outputs": [],
   "source": [
    "from datetime import datetime\n",
    "to_month = lambda x: datetime(x.year,x.month,1)\n",
    "to_day = lambda x: datetime(x.year,x.month,x.day)"
   ]
  },
  {
   "cell_type": "code",
   "execution_count": null,
   "metadata": {
    "collapsed": true
   },
   "outputs": [],
   "source": [
    "# plot by month or day by replacing the lambda functions\n",
    "tweets['retweet_count'].groupby(to_day).mean().plot()"
   ]
  },
  {
   "cell_type": "markdown",
   "metadata": {},
   "source": [
    "**Question**: Changing the unit of analysis (month or day) leads to different figures. Which, do you think, is most interesting?"
   ]
  },
  {
   "cell_type": "markdown",
   "metadata": {},
   "source": [
    "A **histogram** gives an indication of the distribution of the values."
   ]
  },
  {
   "cell_type": "code",
   "execution_count": null,
   "metadata": {},
   "outputs": [],
   "source": [
    "tweets['retweet_count'].plot(kind='hist',bins=100)"
   ]
  },
  {
   "cell_type": "markdown",
   "metadata": {},
   "source": [
    "For closer inspection, you can sort the table by a certain column. "
   ]
  },
  {
   "cell_type": "code",
   "execution_count": null,
   "metadata": {},
   "outputs": [],
   "source": [
    "tweets.sort_values('retweet_count',ascending=False)[:5]"
   ]
  },
  {
   "cell_type": "markdown",
   "metadata": {
    "collapsed": true
   },
   "source": [
    "#### Exercise\n",
    "Make plots and sort the data, but this time for the **\"favourite_count\"** column "
   ]
  },
  {
   "cell_type": "code",
   "execution_count": null,
   "metadata": {
    "collapsed": true
   },
   "outputs": [],
   "source": [
    "# Add your code here"
   ]
  },
  {
   "cell_type": "markdown",
   "metadata": {},
   "source": [
    "## Vader Sentiment Analyzer\n",
    "[from Github](https://github.com/cjhutto/vaderSentiment): VADER (Valence Aware Dictionary and sEntiment Reasoner) is a lexicon and rule-based sentiment analysis tool that is specifically attuned to sentiments expressed in social media.\n",
    "\n",
    "VADER uses a lexicon (a mapping of words to sentiment values, e.g bad=-1.0, good=+1.0) to compute the sentiment (positivity or negativity) of a text."
   ]
  },
  {
   "cell_type": "code",
   "execution_count": null,
   "metadata": {
    "collapsed": true
   },
   "outputs": [],
   "source": [
    "from nltk.sentiment import vader\n",
    "analyzer = vader.SentimentIntensityAnalyzer()"
   ]
  },
  {
   "cell_type": "markdown",
   "metadata": {},
   "source": [
    "Below you can test VADER yourself by changing the value of the ``text`` variable, and running the code block. \n",
    "\n",
    "Can you trick the system? Not very easy isn't it?!"
   ]
  },
  {
   "cell_type": "code",
   "execution_count": null,
   "metadata": {},
   "outputs": [],
   "source": [
    "text = \"I am very very very happy! Oh so happy.\"\n",
    "vs = analyzer.polarity_scores(text)['compound']\n",
    "print(\"{:_<65} {}\".format(text, str(vs)))"
   ]
  },
  {
   "cell_type": "markdown",
   "metadata": {},
   "source": [
    "Now we can easily calculate the sentiment of Trump's tweets. "
   ]
  },
  {
   "cell_type": "code",
   "execution_count": null,
   "metadata": {
    "collapsed": true
   },
   "outputs": [],
   "source": [
    "compound_sentiment = lambda x: analyzer.polarity_scores(x)['compound']\n",
    "tweets['compound_sentiment'] = tweets['text'].apply(compound_sentiment)"
   ]
  },
  {
   "cell_type": "markdown",
   "metadata": {},
   "source": [
    "### Exercises"
   ]
  },
  {
   "cell_type": "code",
   "execution_count": null,
   "metadata": {
    "collapsed": true
   },
   "outputs": [],
   "source": [
    "# print the ten first lines of the tweets table\n",
    "# you should see a new column"
   ]
  },
  {
   "cell_type": "code",
   "execution_count": null,
   "metadata": {
    "collapsed": true
   },
   "outputs": [],
   "source": [
    "# make a timeline and histogram for the compound sentiment collumn"
   ]
  },
  {
   "cell_type": "markdown",
   "metadata": {},
   "source": [
    "## Indexing and slicing"
   ]
  },
  {
   "cell_type": "markdown",
   "metadata": {},
   "source": [
    "You might have wondered what the square brackets in ``tweets.sort_values(retweets,ascending=True)``**[:5]** actually meant? Changing the number ``n`` will, as you undoubtedly notice, impacted the number of rows shown in the Notebook. Actually, here we **sliced** the data, demarcated by the **indices** ``0`` and ``5``.\n",
    "\n",
    "To properly understand these operations, let's have a look at how these operations work on simple strings."
   ]
  },
  {
   "cell_type": "code",
   "execution_count": null,
   "metadata": {},
   "outputs": [],
   "source": [
    "song = \"Naturkatastrophenkonzert\"\n",
    "print(song)"
   ]
  },
  {
   "cell_type": "markdown",
   "metadata": {},
   "source": [
    "[MK, partly a recap] Such a piece of text (\"Naturkatastrophenkonzert\") is called a ``string`` in Python (cf. a string of characters). Strings in Python must always be enclosed with 'quotes' (either **single** or **double** quotes). *Without those quotes, Python will think it's dealing with the name of some variable that has been defined earlier, because variable names never take quotes.* The following distinction is confusing, but extremely important: variable names (without quotes) and string values (with quotes) look similar, but they serve a completely different purpose. Compare:"
   ]
  },
  {
   "cell_type": "code",
   "execution_count": null,
   "metadata": {
    "scrolled": true
   },
   "outputs": [],
   "source": [
    "name = \"Doris\"\n",
    "Doris = \"name\"\n",
    "D = \"D\"\n",
    "print(name)\n",
    "print (Doris)\n",
    "print(D)"
   ]
  },
  {
   "cell_type": "markdown",
   "metadata": {},
   "source": [
    "Now that you know the difference between variables and string values, we can inspect these strings further. [MK] Strings are called strings because they consist of a series (or ``'string'``) of individual characters. We can access these individual characters in Python with the help of **``'indexing'``**, because each character in a string has a unique **``'index'``**. To print the first letter of your name, you can type:"
   ]
  },
  {
   "cell_type": "code",
   "execution_count": null,
   "metadata": {},
   "outputs": [],
   "source": [
    "song_startswith = song[0]\n",
    "print(song)\n",
    "print(song_startswith)"
   ]
  },
  {
   "cell_type": "markdown",
   "metadata": {},
   "source": [
    "\n",
    "### Or try:\n",
    "#print(\"Starts with: \",song_startwith)"
   ]
  },
  {
   "cell_type": "markdown",
   "metadata": {},
   "source": [
    "[MK] How does indexing work exactly?\n",
    "\n",
    "![Indexes of the string Monty Python starting with 0](https://i.stack.imgur.com/vIKaD.png)\n",
    "Take a look at the string \"Monty Python\". We use the index `0` to access the first character in the string. This might seem odd, but  remember that all indexes in Python start at zero. Whenever you count in Python, you start at `0` instead of `1`. Note that the space character gets an index too, namely 2. This is something you will have to get used to!\n",
    "\n",
    "Because you know the length of your name you can ask for the last letter of \"Naturkatastrophenkonzert\": "
   ]
  },
  {
   "cell_type": "code",
   "execution_count": null,
   "metadata": {},
   "outputs": [],
   "source": [
    "last_letter = song[# fill in the last index of \"Naturkatastrophenkonzert\" (tip indexes start at 0)]\n",
    "print(last_letter)"
   ]
  },
  {
   "cell_type": "markdown",
   "metadata": {},
   "source": [
    "[MK]It is rather inconvenient having to know how long our strings are if we want to find out what its last letter is. Python provides a simple way of accessing a string 'from the rear':"
   ]
  },
  {
   "cell_type": "code",
   "execution_count": null,
   "metadata": {
    "collapsed": true
   },
   "outputs": [],
   "source": [
    "# Exercise print the last letter of your name"
   ]
  },
  {
   "cell_type": "code",
   "execution_count": null,
   "metadata": {},
   "outputs": [],
   "source": [
    "last_letter = song[-1]\n",
    "print(last_letter)"
   ]
  },
  {
   "cell_type": "markdown",
   "metadata": {},
   "source": [
    "[MK]Now can you write some code that defines a variable `but_last_letter` and assigns to this variable the *one but last* letter of your name?"
   ]
  },
  {
   "cell_type": "code",
   "execution_count": null,
   "metadata": {
    "collapsed": true
   },
   "outputs": [],
   "source": [
    "name = # enter your name as a string"
   ]
  },
  {
   "cell_type": "code",
   "execution_count": null,
   "metadata": {
    "collapsed": true
   },
   "outputs": [],
   "source": [
    "but_last_letter = name[# insert your code here]\n",
    "print(but_last_letter)"
   ]
  },
  {
   "cell_type": "markdown",
   "metadata": {},
   "source": [
    "[MK] You're starting to become a real expert in indexing strings. Now what if we would like to find out what the last two or three letters of our name are? In Python we can use so-called 'slice-indexes' or 'slices' for short. To find the first two letters of our name we type in:"
   ]
  },
  {
   "cell_type": "code",
   "execution_count": null,
   "metadata": {
    "collapsed": true
   },
   "outputs": [],
   "source": [
    "first_two_letters = name[0:2]\n",
    "print(first_two_letters)"
   ]
  },
  {
   "cell_type": "markdown",
   "metadata": {},
   "source": [
    "The `0` index is optional, so we could just as well type in `name[:2]`. This says: take all characters of name until you reach index 2 (i.e. up to the third letter, but not including the third letter). We can also start at index 2 and leave the end index unspecified:"
   ]
  },
  {
   "cell_type": "code",
   "execution_count": null,
   "metadata": {
    "collapsed": true
   },
   "outputs": [],
   "source": [
    "without_first_two_letters = name[2:]\n",
    "print(without_first_two_letters)"
   ]
  },
  {
   "cell_type": "markdown",
   "metadata": {},
   "source": [
    "Because we did not specify the end index, Python continues until it reaches the end of our string. If we would like to find out what the last two letters of our name are, we can type in:"
   ]
  },
  {
   "cell_type": "code",
   "execution_count": null,
   "metadata": {
    "collapsed": true
   },
   "outputs": [],
   "source": [
    "last_two_letters = name[-2:]\n",
    "print(last_two_letters)"
   ]
  },
  {
   "cell_type": "markdown",
   "metadata": {},
   "source": [
    "Indexing and slicing applies to other datatypes than strings. However, the exact mechanic might differ. \n",
    "First we inspect the data type of the twitter corpus."
   ]
  },
  {
   "cell_type": "code",
   "execution_count": null,
   "metadata": {},
   "outputs": [],
   "source": [
    "type(tweets)"
   ]
  },
  {
   "cell_type": "markdown",
   "metadata": {},
   "source": [
    "...which, as you can see is a pandas DataFrame object. However we can still select items by using a similar syntax as with strings. "
   ]
  },
  {
   "cell_type": "code",
   "execution_count": null,
   "metadata": {
    "collapsed": true
   },
   "outputs": [],
   "source": [
    "# fetch a row with index 0\n",
    "print(tweets.iloc[0])"
   ]
  },
  {
   "cell_type": "code",
   "execution_count": null,
   "metadata": {},
   "outputs": [],
   "source": [
    "# Exercise get the last ten rows"
   ]
  },
  {
   "cell_type": "markdown",
   "metadata": {},
   "source": [
    "If we want to find the most popular tweet, we ca sort the rows by ``retweet_count`` and take the first row."
   ]
  },
  {
   "cell_type": "code",
   "execution_count": null,
   "metadata": {},
   "outputs": [],
   "source": [
    "sorted_by_retweet = tweets.sort_values('retweet_count',ascending=False)\n",
    "print(sorted_by_retweet.iloc[0])"
   ]
  },
  {
   "cell_type": "markdown",
   "metadata": {},
   "source": [
    "You can read the tweets using the following expressions:"
   ]
  },
  {
   "cell_type": "code",
   "execution_count": null,
   "metadata": {},
   "outputs": [],
   "source": [
    "print(sorted_by_retweet.iloc[0]['text'])"
   ]
  },
  {
   "cell_type": "code",
   "execution_count": null,
   "metadata": {},
   "outputs": [],
   "source": [
    "print(sorted_by_retweet.iloc[0].text)"
   ]
  },
  {
   "cell_type": "code",
   "execution_count": null,
   "metadata": {
    "collapsed": true
   },
   "outputs": [],
   "source": [
    "Using the slicing technique we can retrieve the ten most popular tweets."
   ]
  },
  {
   "cell_type": "code",
   "execution_count": null,
   "metadata": {},
   "outputs": [],
   "source": [
    "sorted_by_retweet.iloc[0:10]['text']"
   ]
  },
  {
   "cell_type": "code",
   "execution_count": null,
   "metadata": {
    "collapsed": true
   },
   "outputs": [],
   "source": [
    "To read the full text, run the code below."
   ]
  },
  {
   "cell_type": "code",
   "execution_count": null,
   "metadata": {},
   "outputs": [],
   "source": [
    "for r in sorted_by_retweet.iloc[0:10]['text']:\n",
    "    print(r)\n",
    "    print()"
   ]
  },
  {
   "cell_type": "markdown",
   "metadata": {},
   "source": [
    "### Exercise\n",
    "Print the ten most positive and ten most negative tweets"
   ]
  },
  {
   "cell_type": "code",
   "execution_count": null,
   "metadata": {
    "collapsed": true
   },
   "outputs": [],
   "source": [
    "# Add your code here"
   ]
  },
  {
   "cell_type": "markdown",
   "metadata": {},
   "source": [
    "### You're done for today!\n",
    "If you have some energy left, play around a bit with the code below"
   ]
  },
  {
   "cell_type": "markdown",
   "metadata": {},
   "source": [
    "The code below allows you to search for specific words in the Twitter corpus."
   ]
  },
  {
   "cell_type": "code",
   "execution_count": null,
   "metadata": {},
   "outputs": [],
   "source": [
    "contains_word = lambda x,w: x.lower().find(w)\n",
    "trump_tweets['contains_obama'] = trump_tweets['text'].apply(contains_word,w='obama')\n",
    "about_obama = trump_tweets[trump_tweets.contains_obama > 0]\n",
    "len(about_obama)"
   ]
  },
  {
   "cell_type": "markdown",
   "metadata": {},
   "source": [
    "How does Trump use uppercase?"
   ]
  },
  {
   "cell_type": "code",
   "execution_count": null,
   "metadata": {},
   "outputs": [],
   "source": [
    "def count_upper(text):\n",
    "    uppers = []\n",
    "    for char in text:\n",
    "        if char.isupper():\n",
    "            uppers.append(char)\n",
    "    return len(uppers)/len(text)\n",
    "\n",
    "tweets = tweets[tweets.is_retweet==False]\n",
    "tweets['uppers'] = tweets.text.apply(count_upper)\n",
    "tweets.sort_values('uppers',ascending=False)[:10]"
   ]
  },
  {
   "cell_type": "code",
   "execution_count": null,
   "metadata": {
    "collapsed": true
   },
   "outputs": [],
   "source": [
    "from IPython.core.display import HTML\n",
    "def css_styling():\n",
    "    styles = open(\"styles/custom.css\", \"r\").read()\n",
    "    return HTML(styles)\n",
    "css_styling()"
   ]
  }
 ],
 "metadata": {
  "kernelspec": {
   "display_name": "Python 3",
   "language": "python",
   "name": "python3"
  },
  "language_info": {
   "codemirror_mode": {
    "name": "ipython",
    "version": 3
   },
   "file_extension": ".py",
   "mimetype": "text/x-python",
   "name": "python",
   "nbconvert_exporter": "python",
   "pygments_lexer": "ipython3",
   "version": "3.6.3"
  }
 },
 "nbformat": 4,
 "nbformat_minor": 1
}
