{
 "cells": [
  {
   "cell_type": "markdown",
   "metadata": {},
   "source": [
    "# Overview\n",
    "-- Inspired by **A Python Course for the Humanities** by Folgert Karsdorp and Maarten van Gompel [PH], and later version modified by Mike Kestemont and Lars Wieneke [MK]. Material is also taken from ``How to Think Like a Computer Scientist`` [CS]."
   ]
  },
  {
   "cell_type": "markdown",
   "metadata": {},
   "source": [
    "# Coding the Humanities\n",
    "\n",
    "Coding is not a gift but a skill acquired via practice. Coding is neither the preserve of the computer scientists. It has value to almost any type of research, also for the Humanities. But for historians, linguists, philosopher to make efficient use of computers takes more time, more importantly, it programming may often seem a frustrating and pointless exercise. \n",
    "\n",
    "Practice and persistence, here, is the key to succes. Similar to learning a natural languages, you only get proficient in coding through exercise. Code, sleep, repeat, this is the mantra of this course, which is extremely hands-on: you will have to write a lot of programming code yourself from the very beginning onwards. \n",
    "\n",
    "Theory is only secondary, more important is that you get the feel of it. "
   ]
  },
  {
   "cell_type": "markdown",
   "metadata": {},
   "source": [
    "For writing the Python code in this tutorial, you can use the many 'code blocks' you will encounter, such as the grey block immediately below. Place your cursor inside this block and press `ctrl+enter` to \"run\" or execute the code. Let's begin right away: run your first little program! [MK]"
   ]
  },
  {
   "cell_type": "code",
   "execution_count": 2,
   "metadata": {},
   "outputs": [
    {
     "name": "stdout",
     "output_type": "stream",
     "text": [
      "Hello World!\n"
     ]
    }
   ],
   "source": [
    "print('Hello World!')"
   ]
  },
  {
   "cell_type": "markdown",
   "metadata": {},
   "source": [
    "Questions:\n",
    "- Can you describe what the programme just did?\n",
    "- Can you adapt it to print your own name? (code block below)"
   ]
  },
  {
   "cell_type": "code",
   "execution_count": null,
   "metadata": {
    "collapsed": true
   },
   "outputs": [],
   "source": [
    "# insert your own code here!\n",
    "# print your own name or whatever"
   ]
  },
  {
   "cell_type": "markdown",
   "metadata": {},
   "source": [
    "What is a program?\n",
    "\n",
    "``A program is a sequence of instructions that specifies how to perform a computation. The computation might be something mathematical, such as solving a system of equations or finding the roots of a polynomial, but it can also be a symbolic computation, such as searching and replacing text in a document or (strangely enough) compiling a program.\n",
    "\n",
    "**input**: Get data from the keyboard, a \f",
    "le, or some other device.\n",
    "\n",
    "**output**: Display data on the screen or send data to a \f",
    "le or other device.\n",
    "\n",
    "**math**: Perform basic mathematical operations like addition and multiplication.\n",
    "\n",
    "**conditional execution**: Check for certain conditions and execute the appropriate sequence of statements.\n",
    "repetition: Perform some action repeatedly, usually with some variation.\n",
    "`` [CS]\n",
    "\n",
    "**Question**: Why is ``print('Hello World!)`` a programme?"
   ]
  },
  {
   "cell_type": "markdown",
   "metadata": {},
   "source": [
    "Apart from printing words to your screen, you can also use Python to do calculations. \n",
    "\n",
    "* Use the code block below to calculate how many minutes there are in seven weeks? (Hint: multiplication is done using the `*` symbol in Python.)"
   ]
  },
  {
   "cell_type": "code",
   "execution_count": 7,
   "metadata": {},
   "outputs": [
    {
     "name": "stdout",
     "output_type": "stream",
     "text": [
      "70560\n"
     ]
    }
   ],
   "source": [
    "# insert your own code here!\n",
    "# use python as a calculator\n",
    "print(60*24*7*7)"
   ]
  },
  {
   "cell_type": "markdown",
   "metadata": {},
   "source": [
    "## Teaching Method: Learning at Different speeds\n",
    "\n",
    "Ok, you might at this point, at this rate I am not getting very far. A problem with learning how to code is the distance between \n",
    "\n",
    "Therefore, we intitialy focus less on the basics of the programming language (Python) but directly present some actually uses to show you where we are heading with this course, what type of operations you will be\n",
    "\n",
    "Instead of following the classic sequence of 'variables' 'conditions' and build-in data types (such as integers, lists and dictionaries) we will jump immediately to emotion mining a large set of JSON files. For sure we cover the basic Python elements, but I want to entice you by confronting you with the concrete research opportunities codings entails.\n",
    "\n",
    "First **why**, then **how**.\n",
    "\n",
    "In general, this tutorial proceeds at different speeds. We make sometimes make big jumps, and then retreat, and struggle to our goal in small steps. \n",
    "\n",
    "So remain Zen, and don't worry if everything is immediately clear."
   ]
  },
  {
   "cell_type": "markdown",
   "metadata": {},
   "source": [
    "## The IPython Notebook Environment\n",
    "\n",
    "The document you opened in your browser is an IPython Notebook, an interactive coding environment in your browser. It consists different blocks **Click here**, the box should by marked by a black rectangle. If you **double click** the original markdown syntax appears, and you can add your own text. Let's try. Enter your name below surrounded by \\*\\* to print it in bold type\n",
    "\n",
    "Hello, my name is [your name here]\n",
    "\n",
    "Then press ``run cell`` above, or press ``ctrl+enter``"
   ]
  },
  {
   "cell_type": "markdown",
   "metadata": {},
   "source": [
    "You can add a cell by going to\n",
    "``Insert >> Insert Cell Below``\n",
    "\n",
    "An empty cell should appear. \n",
    "Two types ``Markdown`` for typing text, and ``Code`` for entering Python code."
   ]
  },
  {
   "cell_type": "markdown",
   "metadata": {},
   "source": [
    "## Python and Libraries\n",
    "\n",
    "### Python\n",
    "\n",
    "**What** is Python?\n",
    "\n",
    "[CS]\n",
    "\n",
    "**Why** Python? [LU]\n",
    "- Software Quality\n",
    "- Developer Productivity\n",
    "- Portability\n",
    "- Support Libraries"
   ]
  },
  {
   "cell_type": "code",
   "execution_count": 1,
   "metadata": {
    "collapsed": true
   },
   "outputs": [],
   "source": [
    "import pandas as pd"
   ]
  },
  {
   "cell_type": "markdown",
   "metadata": {},
   "source": [
    "## Pandas"
   ]
  },
  {
   "cell_type": "markdown",
   "metadata": {},
   "source": [
    "### Before we start"
   ]
  },
  {
   "cell_type": "code",
   "execution_count": 3,
   "metadata": {},
   "outputs": [
    {
     "name": "stdout",
     "output_type": "stream",
     "text": [
      "Hello World.\n"
     ]
    }
   ],
   "source": [
    "# Check version by making Python crash hard.\n",
    "# This press ctrl+enter; this should raise a SyntaxError\n",
    "print \"Hello World.\""
   ]
  },
  {
   "cell_type": "markdown",
   "metadata": {},
   "source": [
    "# Ok, let's start!\n",
    "... for real."
   ]
  },
  {
   "cell_type": "markdown",
   "metadata": {},
   "source": [
    "## Variables, expressions and statements\n",
    "[MK] How can we load and process all this candy? To understand this, we first have to introduce some basic Python vocabulary: namely **variables, expression and statements** the elementary building blocks of your eventual programs."
   ]
  },
  {
   "cell_type": "markdown",
   "metadata": {},
   "source": [
    "### Values"
   ]
  },
  {
   "cell_type": "code",
   "execution_count": null,
   "metadata": {
    "collapsed": true
   },
   "outputs": [],
   "source": [
    "# run this cell\n",
    "print(2)\n",
    "print(\"Hello, World!\")\n",
    "print(0.5)"
   ]
  },
  {
   "cell_type": "markdown",
   "metadata": {},
   "source": [
    "[CS] A value is one of the fundamental things like a letter or a number that a program manipulates. The values we have seen so far are 2 (the result when we added 1 + 1), and \"Hello, World!\"."
   ]
  },
  {
   "cell_type": "markdown",
   "metadata": {},
   "source": [
    "### Variables\n",
    "One of the most powerful features of a programming language is the ability to manipulate variables. A variable is a name that refers to a value. The assignment statement creates new variables and gives them values:"
   ]
  },
  {
   "cell_type": "code",
   "execution_count": 8,
   "metadata": {},
   "outputs": [
    {
     "name": "stdout",
     "output_type": "stream",
     "text": [
      "Hello World.\n"
     ]
    }
   ],
   "source": [
    "# declaring a variable\n",
    "x = 'Hello World.'\n",
    "# printing what is in the box\n",
    "print(x)"
   ]
  },
  {
   "cell_type": "code",
   "execution_count": 9,
   "metadata": {},
   "outputs": [
    {
     "name": "stdout",
     "output_type": "stream",
     "text": [
      "3\n"
     ]
    }
   ],
   "source": [
    "# declaring a variable\n",
    "x = 3\n",
    "# printing what is in the box\n",
    "print(x)"
   ]
  },
  {
   "cell_type": "markdown",
   "metadata": {},
   "source": [
    "[MK] If you vaguely remember your math-classes in school, this should look familiar. It is basically the same notation with the name of the variable on the left, the value on the right, and the = sign in the middle. \n",
    "\n",
    "In the code block above, two things happen. First, we fill `x` with a value, in our case `3`. This variable x behaves pretty much like a **box** on which we write an `x` with a thick, black marker to find it back later. We then print the contents of this box, using the `print()` command. \n",
    "\n",
    "* Now copy the outcome of your code calculating the number of minutes in seven weeks and assign this number to `x`. Run the code again.\n",
    "\n",
    "The box metaphor for a variable goes a long way: in such a box you can put whatever value you want, e.g. the number of minutes in seven weeks. When you re-assign a variable, you remove the content of the box and  put something new in it. In Python, the term **'variable'** refers to such a box, whereas the term **'value'** refers to what is inside this box."
   ]
  },
  {
   "cell_type": "code",
   "execution_count": null,
   "metadata": {
    "collapsed": true
   },
   "outputs": [],
   "source": [
    "#can you understand the difference between\n",
    "x = \"x\"\n",
    "y = y\n",
    "y = x\n",
    "# Running this code will produce an error, can you explain why?"
   ]
  },
  {
   "cell_type": "markdown",
   "metadata": {},
   "source": [
    "### Statements and Operators\n",
    "\n",
    "A **statement** is an instruction that the Python interpreter can execute. We have\n",
    "seen two kinds of statements: ``print`` and assignment (``=``)."
   ]
  },
  {
   "cell_type": "code",
   "execution_count": null,
   "metadata": {
    "collapsed": true
   },
   "outputs": [],
   "source": [
    "# write here two statements: a print and an assignments"
   ]
  },
  {
   "cell_type": "markdown",
   "metadata": {},
   "source": [
    "A **script** usually contains a sequence of statements."
   ]
  },
  {
   "cell_type": "markdown",
   "metadata": {},
   "source": [
    "We can transform variables and values by applying operators to them. \n",
    "[CS] The symbols +, -, and /, and the use of parenthesis for grouping, mean in\n",
    "Python what they mean in mathematics. The asterisk (*) is the symbol for\n",
    "multiplication, and \\** is the symbol for exponentiation."
   ]
  },
  {
   "cell_type": "code",
   "execution_count": null,
   "metadata": {
    "collapsed": true
   },
   "outputs": [],
   "source": [
    "print()"
   ]
  },
  {
   "cell_type": "code",
   "execution_count": 4,
   "metadata": {},
   "outputs": [
    {
     "name": "stdout",
     "output_type": "stream",
     "text": [
      "6\n",
      "2\n",
      "2.0\n",
      "8\n",
      "4\n"
     ]
    }
   ],
   "source": [
    "# Using Python as a calculator\n",
    "x = 4\n",
    "y = 2\n",
    "print(x+y)\n",
    "print(x-y)\n",
    "print(x/y)\n",
    "print(x*2)\n",
    "print(y**2)"
   ]
  },
  {
   "cell_type": "markdown",
   "metadata": {},
   "source": [
    "### Types"
   ]
  },
  {
   "cell_type": "markdown",
   "metadata": {},
   "source": [
    "You can see that x/2 is not a integer. Numbers with a \"dot\" are ``floats``. We won't go into details here but you should be aware Python includes different \"native\" data types. Why is this important? Try to run the following block."
   ]
  },
  {
   "cell_type": "code",
   "execution_count": 1,
   "metadata": {},
   "outputs": [
    {
     "ename": "TypeError",
     "evalue": "unsupported operand type(s) for +: 'int' and 'str'",
     "output_type": "error",
     "traceback": [
      "\u001b[0;31m---------------------------------------------------------------------------\u001b[0m",
      "\u001b[0;31mTypeError\u001b[0m                                 Traceback (most recent call last)",
      "\u001b[0;32m<ipython-input-1-9fb6481c4428>\u001b[0m in \u001b[0;36m<module>\u001b[0;34m()\u001b[0m\n\u001b[0;32m----> 1\u001b[0;31m \u001b[0mprint\u001b[0m\u001b[0;34m(\u001b[0m\u001b[0;36m1\u001b[0m\u001b[0;34m+\u001b[0m\u001b[0;34m\"1\"\u001b[0m\u001b[0;34m)\u001b[0m\u001b[0;34m\u001b[0m\u001b[0m\n\u001b[0m",
      "\u001b[0;31mTypeError\u001b[0m: unsupported operand type(s) for +: 'int' and 'str'"
     ]
    }
   ],
   "source": [
    "print(1+\"1\")"
   ]
  },
  {
   "cell_type": "markdown",
   "metadata": {},
   "source": [
    "This shoud raise a TypeError. The error message points out that you can not combine elements with different types. The check if the value belong the the same ``type``. Simply wrap the ``type`` function around the value. At this point you probably won't know what the previous sentence meant, but (to give you the answer), try to run variations of the code in cell below: ``print(type(put any object here))``"
   ]
  },
  {
   "cell_type": "code",
   "execution_count": null,
   "metadata": {
    "collapsed": true
   },
   "outputs": [],
   "source": [
    "#"
   ]
  },
  {
   "cell_type": "markdown",
   "metadata": {},
   "source": [
    "You can force an item to change the type. Run the cell below. Can you explain the differences between first and second print statement?"
   ]
  },
  {
   "cell_type": "code",
   "execution_count": 3,
   "metadata": {},
   "outputs": [
    {
     "name": "stdout",
     "output_type": "stream",
     "text": [
      "11\n",
      "2\n"
     ]
    }
   ],
   "source": [
    "print(str(1)+str(\"1\"))\n",
    "print(int(1)+int(\"1\"))"
   ]
  },
  {
   "cell_type": "code",
   "execution_count": 5,
   "metadata": {
    "collapsed": true
   },
   "outputs": [],
   "source": [
    "# difference between strings and numbers"
   ]
  },
  {
   "cell_type": "markdown",
   "metadata": {},
   "source": [
    "Let's have a closer look at the 'str' type (str stands for string)"
   ]
  },
  {
   "cell_type": "code",
   "execution_count": 3,
   "metadata": {},
   "outputs": [
    {
     "name": "stdout",
     "output_type": "stream",
     "text": [
      "KasparBeelen\n"
     ]
    }
   ],
   "source": [
    "first_name = \"Kaspar\"\n",
    "last_name = \"Beelen\"\n",
    "print(first_name+last_name)"
   ]
  },
  {
   "cell_type": "markdown",
   "metadata": {},
   "source": [
    "This the last operation is called string **concatination**."
   ]
  },
  {
   "cell_type": "code",
   "execution_count": null,
   "metadata": {
    "collapsed": true
   },
   "outputs": [],
   "source": [
    "#print last name neatly"
   ]
  },
  {
   "cell_type": "code",
   "execution_count": null,
   "metadata": {
    "collapsed": true
   },
   "outputs": [],
   "source": [
    "# try other operators on the first and last names, what works, what does not? can you explain why?"
   ]
  },
  {
   "cell_type": "markdown",
   "metadata": {},
   "source": [
    "## One last thing before we really, really kick off\n",
    "### Let me introduce to you: The List\n",
    "\n",
    "Instead of assigning a variable to one item (in integer or a string), you can relate to a collection of items, a ``list``---there are more collections in Python, but now we only look at lists. \n",
    "\n",
    "A list is demarcated by squary brackets"
   ]
  },
  {
   "cell_type": "code",
   "execution_count": 13,
   "metadata": {
    "collapsed": true
   },
   "outputs": [],
   "source": [
    "# can be a list\n",
    "# defined by square parentheses, items are separated by commas\n",
    "l1 = [1,2,3]\n",
    "l2 = ['my','name','is','kaspar']"
   ]
  },
  {
   "cell_type": "code",
   "execution_count": 14,
   "metadata": {
    "scrolled": true
   },
   "outputs": [
    {
     "name": "stdout",
     "output_type": "stream",
     "text": [
      "['my', 'name', 'is', 'kaspar']\n"
     ]
    }
   ],
   "source": [
    "print(l2)"
   ]
  },
  {
   "cell_type": "code",
   "execution_count": null,
   "metadata": {
    "collapsed": true
   },
   "outputs": [],
   "source": [
    "# try to assign a variable to a list value. Try to come up with something useful."
   ]
  },
  {
   "cell_type": "markdown",
   "metadata": {},
   "source": [
    "## What we learnt so far [MK]\n",
    "To finish this section, here is an overview of what we have learnt. Go through the list and make sure you understand all the concepts.\n",
    "\n",
    "- variable\n",
    "- value\n",
    "- assignment operator (=)\n",
    "- difference between variables and values\n",
    "- integers vs. floats\n",
    "- operators for multiplication (*), subtraction (-), addition (+), division (/)\n",
    "- print()\n"
   ]
  },
  {
   "cell_type": "markdown",
   "metadata": {},
   "source": [
    "# Loading Json Data"
   ]
  },
  {
   "cell_type": "markdown",
   "metadata": {},
   "source": [
    "Previous section covered the most basic elemetns of Python. Below we will take some bigger steps, so don't worry if  the code below seems difficult--because it is hard at the first time. The point of this sudden accelaration, is to demonstrate the power of coding, to show you that with relatively few lines of code."
   ]
  },
  {
   "cell_type": "markdown",
   "metadata": {
    "collapsed": true
   },
   "source": [
    "As an example we used all tweets of the current American President. These were obtained via the [Trump Twitter Archive](http://www.trumptwitterarchive.com/archive)."
   ]
  },
  {
   "cell_type": "markdown",
   "metadata": {
    "collapsed": true
   },
   "source": [
    "The database is a JSON file in which each item is a tweet. The cell below shows the first tweet of the collection. It may seem difficult to read JSON notation, but there are various tools to help you. Go for example to this [JSON viewer](http://jsonviewer.stack.hu/) and copy paste the text in the cell below."
   ]
  },
  {
   "cell_type": "markdown",
   "metadata": {},
   "source": [
    "{\"source\":\"Twitter for iPhone\",\"text\":\"The Tax Cut Bill is coming along very well, great support. With just a few changes, some mathematical, the middle class and job producers can get even more in actual dollars and savings and the pass through provision becomes simpler and really works well!\",\"created_at\":\"Mon Nov 27 14:24:36 +0000 2017\",\"retweet_count\":15663,\"favorite_count\":79868,\"is_retweet\":false,\"id_str\":\"935152378747195392\"}"
   ]
  },
  {
   "cell_type": "markdown",
   "metadata": {},
   "source": [
    "Inspect the JSON file. What information is in there, what is missing? What type of questions could one answer using these data. Just FYI, the information per tweet is actually larger. Inspect the \"example.json\" in the previously mentioned [viewer](http://jsonviewer.stack.hu/)."
   ]
  },
  {
   "cell_type": "markdown",
   "metadata": {},
   "source": [
    "Okay, let's have a closer look at the corpus, that includes all tweets after the inauguration. Here Pandas is very useful library to load and inspect the data. Simply run the code below and relax."
   ]
  },
  {
   "cell_type": "code",
   "execution_count": 25,
   "metadata": {},
   "outputs": [
    {
     "data": {
      "text/html": [
       "<div>\n",
       "<style>\n",
       "    .dataframe thead tr:only-child th {\n",
       "        text-align: right;\n",
       "    }\n",
       "\n",
       "    .dataframe thead th {\n",
       "        text-align: left;\n",
       "    }\n",
       "\n",
       "    .dataframe tbody tr th {\n",
       "        vertical-align: top;\n",
       "    }\n",
       "</style>\n",
       "<table border=\"1\" class=\"dataframe\">\n",
       "  <thead>\n",
       "    <tr style=\"text-align: right;\">\n",
       "      <th></th>\n",
       "      <th>favorite_count</th>\n",
       "      <th>id_str</th>\n",
       "      <th>is_retweet</th>\n",
       "      <th>retweet_count</th>\n",
       "      <th>source</th>\n",
       "      <th>text</th>\n",
       "    </tr>\n",
       "    <tr>\n",
       "      <th>created_at</th>\n",
       "      <th></th>\n",
       "      <th></th>\n",
       "      <th></th>\n",
       "      <th></th>\n",
       "      <th></th>\n",
       "      <th></th>\n",
       "    </tr>\n",
       "  </thead>\n",
       "  <tbody>\n",
       "    <tr>\n",
       "      <th>2017-11-27 14:24:36</th>\n",
       "      <td>79868</td>\n",
       "      <td>935152378747195392</td>\n",
       "      <td>False</td>\n",
       "      <td>15663</td>\n",
       "      <td>Twitter for iPhone</td>\n",
       "      <td>The Tax Cut Bill is coming along very well, gr...</td>\n",
       "    </tr>\n",
       "    <tr>\n",
       "      <th>2017-11-27 14:16:36</th>\n",
       "      <td>56809</td>\n",
       "      <td>935150368207654912</td>\n",
       "      <td>False</td>\n",
       "      <td>12950</td>\n",
       "      <td>Twitter for iPhone</td>\n",
       "      <td>The good news is that their ratings are terrib...</td>\n",
       "    </tr>\n",
       "    <tr>\n",
       "      <th>2017-11-27 14:04:51</th>\n",
       "      <td>147991</td>\n",
       "      <td>935147410472480768</td>\n",
       "      <td>False</td>\n",
       "      <td>40730</td>\n",
       "      <td>Twitter for iPhone</td>\n",
       "      <td>We should have a contest as to which of the Ne...</td>\n",
       "    </tr>\n",
       "    <tr>\n",
       "      <th>2017-11-27 01:47:32</th>\n",
       "      <td>84481</td>\n",
       "      <td>934961858380955648</td>\n",
       "      <td>False</td>\n",
       "      <td>16827</td>\n",
       "      <td>Twitter for iPhone</td>\n",
       "      <td>Back in D.C., big week for Tax Cuts and many o...</td>\n",
       "    </tr>\n",
       "    <tr>\n",
       "      <th>2017-11-26 21:29:46</th>\n",
       "      <td>150767</td>\n",
       "      <td>934896989539586048</td>\n",
       "      <td>False</td>\n",
       "      <td>34005</td>\n",
       "      <td>Twitter for iPhone</td>\n",
       "      <td>Since the first day I took office, all you hea...</td>\n",
       "    </tr>\n",
       "  </tbody>\n",
       "</table>\n",
       "</div>"
      ],
      "text/plain": [
       "                     favorite_count              id_str  is_retweet  \\\n",
       "created_at                                                            \n",
       "2017-11-27 14:24:36           79868  935152378747195392       False   \n",
       "2017-11-27 14:16:36           56809  935150368207654912       False   \n",
       "2017-11-27 14:04:51          147991  935147410472480768       False   \n",
       "2017-11-27 01:47:32           84481  934961858380955648       False   \n",
       "2017-11-26 21:29:46          150767  934896989539586048       False   \n",
       "\n",
       "                     retweet_count              source  \\\n",
       "created_at                                               \n",
       "2017-11-27 14:24:36          15663  Twitter for iPhone   \n",
       "2017-11-27 14:16:36          12950  Twitter for iPhone   \n",
       "2017-11-27 14:04:51          40730  Twitter for iPhone   \n",
       "2017-11-27 01:47:32          16827  Twitter for iPhone   \n",
       "2017-11-26 21:29:46          34005  Twitter for iPhone   \n",
       "\n",
       "                                                                  text  \n",
       "created_at                                                              \n",
       "2017-11-27 14:24:36  The Tax Cut Bill is coming along very well, gr...  \n",
       "2017-11-27 14:16:36  The good news is that their ratings are terrib...  \n",
       "2017-11-27 14:04:51  We should have a contest as to which of the Ne...  \n",
       "2017-11-27 01:47:32  Back in D.C., big week for Tax Cuts and many o...  \n",
       "2017-11-26 21:29:46  Since the first day I took office, all you hea...  "
      ]
     },
     "execution_count": 25,
     "metadata": {},
     "output_type": "execute_result"
    }
   ],
   "source": [
    "# import the pandas library`\n",
    "import pandas as pd\n",
    "# read the JSON corpus, or: put all tweets in a box called trump_tweets\n",
    "tweets = pd.read_json('data/trump2.json')\n",
    "# ignore for now, this simply uses the moment of posting as an index\n",
    "tweets.set_index('created_at',inplace=True)\n",
    "# keep only the tweets posted by Trump himself (i.e. exclude retweets)\n",
    "tweets = tweets[tweets.is_retweet==False]\n",
    "# print the first five rows\n",
    "tweets.head(5)"
   ]
  },
  {
   "cell_type": "markdown",
   "metadata": {},
   "source": [
    "With these few lines, you managed to lead the whole corpus of Trump tweets."
   ]
  },
  {
   "cell_type": "code",
   "execution_count": 75,
   "metadata": {
    "collapsed": true
   },
   "outputs": [],
   "source": [
    "# Exercise 1: print the first 10 rows\n",
    "# Exercise 2: What is the type of the tweets?"
   ]
  },
  {
   "cell_type": "code",
   "execution_count": 74,
   "metadata": {
    "scrolled": true
   },
   "outputs": [],
   "source": [
    "# Exercise 2:You can count the number of tweets by wrapping the \"len\" function around the \"tweets\" variable. Try it!"
   ]
  },
  {
   "cell_type": "markdown",
   "metadata": {},
   "source": [
    "## Exploring Data"
   ]
  },
  {
   "cell_type": "markdown",
   "metadata": {},
   "source": [
    "Pandas allows you to inspect the data with the help of some descriptive statistics and plots. Run the cell below, otherwise the plots won't appear in the Notebook."
   ]
  },
  {
   "cell_type": "code",
   "execution_count": 77,
   "metadata": {},
   "outputs": [
    {
     "data": {
      "text/html": [
       "<div>\n",
       "<style>\n",
       "    .dataframe thead tr:only-child th {\n",
       "        text-align: right;\n",
       "    }\n",
       "\n",
       "    .dataframe thead th {\n",
       "        text-align: left;\n",
       "    }\n",
       "\n",
       "    .dataframe tbody tr th {\n",
       "        vertical-align: top;\n",
       "    }\n",
       "</style>\n",
       "<table border=\"1\" class=\"dataframe\">\n",
       "  <thead>\n",
       "    <tr style=\"text-align: right;\">\n",
       "      <th></th>\n",
       "      <th>favorite_count</th>\n",
       "      <th>id_str</th>\n",
       "      <th>retweet_count</th>\n",
       "      <th>compound_sentiment</th>\n",
       "    </tr>\n",
       "  </thead>\n",
       "  <tbody>\n",
       "    <tr>\n",
       "      <th>count</th>\n",
       "      <td>2076.000000</td>\n",
       "      <td>2.076000e+03</td>\n",
       "      <td>2076.000000</td>\n",
       "      <td>2076.000000</td>\n",
       "    </tr>\n",
       "    <tr>\n",
       "      <th>mean</th>\n",
       "      <td>83324.375241</td>\n",
       "      <td>8.807523e+17</td>\n",
       "      <td>19264.033237</td>\n",
       "      <td>0.198418</td>\n",
       "    </tr>\n",
       "    <tr>\n",
       "      <th>std</th>\n",
       "      <td>42277.667375</td>\n",
       "      <td>3.550167e+16</td>\n",
       "      <td>14733.346029</td>\n",
       "      <td>0.568422</td>\n",
       "    </tr>\n",
       "    <tr>\n",
       "      <th>min</th>\n",
       "      <td>1.000000</td>\n",
       "      <td>8.159307e+17</td>\n",
       "      <td>2.000000</td>\n",
       "      <td>-0.973500</td>\n",
       "    </tr>\n",
       "    <tr>\n",
       "      <th>25%</th>\n",
       "      <td>58142.250000</td>\n",
       "      <td>8.507964e+17</td>\n",
       "      <td>12144.500000</td>\n",
       "      <td>-0.248100</td>\n",
       "    </tr>\n",
       "    <tr>\n",
       "      <th>50%</th>\n",
       "      <td>74939.000000</td>\n",
       "      <td>8.857725e+17</td>\n",
       "      <td>16407.000000</td>\n",
       "      <td>0.345300</td>\n",
       "    </tr>\n",
       "    <tr>\n",
       "      <th>75%</th>\n",
       "      <td>100000.250000</td>\n",
       "      <td>9.124831e+17</td>\n",
       "      <td>23121.500000</td>\n",
       "      <td>0.708800</td>\n",
       "    </tr>\n",
       "    <tr>\n",
       "      <th>max</th>\n",
       "      <td>616217.000000</td>\n",
       "      <td>9.351524e+17</td>\n",
       "      <td>369530.000000</td>\n",
       "      <td>0.980500</td>\n",
       "    </tr>\n",
       "  </tbody>\n",
       "</table>\n",
       "</div>"
      ],
      "text/plain": [
       "       favorite_count        id_str  retweet_count  compound_sentiment\n",
       "count     2076.000000  2.076000e+03    2076.000000         2076.000000\n",
       "mean     83324.375241  8.807523e+17   19264.033237            0.198418\n",
       "std      42277.667375  3.550167e+16   14733.346029            0.568422\n",
       "min          1.000000  8.159307e+17       2.000000           -0.973500\n",
       "25%      58142.250000  8.507964e+17   12144.500000           -0.248100\n",
       "50%      74939.000000  8.857725e+17   16407.000000            0.345300\n",
       "75%     100000.250000  9.124831e+17   23121.500000            0.708800\n",
       "max     616217.000000  9.351524e+17  369530.000000            0.980500"
      ]
     },
     "execution_count": 77,
     "metadata": {},
     "output_type": "execute_result"
    }
   ],
   "source": [
    "tweets.describe()"
   ]
  },
  {
   "cell_type": "markdown",
   "metadata": {},
   "source": [
    "Does this table give you an overview of the whole dataset?"
   ]
  },
  {
   "cell_type": "code",
   "execution_count": 62,
   "metadata": {
    "collapsed": true
   },
   "outputs": [],
   "source": [
    "# Ignore for now this cell\n",
    "%matplotlib inline"
   ]
  },
  {
   "cell_type": "markdown",
   "metadata": {},
   "source": [
    "An easy way to study the popularity of Trump is to plot the number of retweets over time"
   ]
  },
  {
   "cell_type": "code",
   "execution_count": 83,
   "metadata": {},
   "outputs": [
    {
     "data": {
      "text/plain": [
       "count      2076.000000\n",
       "mean      19264.033237\n",
       "std       14733.346029\n",
       "min           2.000000\n",
       "25%       12144.500000\n",
       "50%       16407.000000\n",
       "75%       23121.500000\n",
       "max      369530.000000\n",
       "Name: retweet_count, dtype: float64"
      ]
     },
     "execution_count": 83,
     "metadata": {},
     "output_type": "execute_result"
    }
   ],
   "source": [
    "tweets.retweet_count.describe()"
   ]
  },
  {
   "cell_type": "code",
   "execution_count": 30,
   "metadata": {},
   "outputs": [
    {
     "data": {
      "text/plain": [
       "<matplotlib.axes._subplots.AxesSubplot at 0x1a1699a240>"
      ]
     },
     "execution_count": 30,
     "metadata": {},
     "output_type": "execute_result"
    },
    {
     "data": {
      "image/png": "[encoded data removed]",
      "text/plain": [
       "<matplotlib.figure.Figure at 0x1a16935278>"
      ]
     },
     "metadata": {},
     "output_type": "display_data"
    }
   ],
   "source": [
    "tweets['retweet_count'].plot()"
   ]
  },
  {
   "cell_type": "code",
   "execution_count": 81,
   "metadata": {},
   "outputs": [
    {
     "data": {
      "text/plain": [
       "<matplotlib.axes._subplots.AxesSubplot at 0x1a209e1ef0>"
      ]
     },
     "execution_count": 81,
     "metadata": {},
     "output_type": "execute_result"
    },
    {
     "data": {
      "image/png": "[encoded data removed]",
      "text/plain": [
       "<matplotlib.figure.Figure at 0x1a20a08710>"
      ]
     },
     "metadata": {},
     "output_type": "display_data"
    }
   ],
   "source": [
    "from datetime import datetime\n",
    "# plot by month\n",
    "to_month = lambda x: datetime(x.year,x.month,1)\n",
    "to_day = lambda x: datetime(x.year,x.month,x.day)\n",
    "tweets['retweet_count'].groupby(to_day).mean().plot()"
   ]
  },
  {
   "cell_type": "markdown",
   "metadata": {},
   "source": [
    "A histogram gives an indication of the distribution of the values."
   ]
  },
  {
   "cell_type": "code",
   "execution_count": 32,
   "metadata": {},
   "outputs": [
    {
     "data": {
      "text/plain": [
       "<matplotlib.axes._subplots.AxesSubplot at 0x1a168e10f0>"
      ]
     },
     "execution_count": 32,
     "metadata": {},
     "output_type": "execute_result"
    },
    {
     "data": {
      "image/png": "[encoded data removed]",
      "text/plain": [
       "<matplotlib.figure.Figure at 0x1a1076f128>"
      ]
     },
     "metadata": {},
     "output_type": "display_data"
    }
   ],
   "source": [
    "tweets['retweet_count'].plot(kind='hist',bins=100)"
   ]
  },
  {
   "cell_type": "markdown",
   "metadata": {},
   "source": [
    "For closer inspection, you can sort the table by a certain column. "
   ]
  },
  {
   "cell_type": "code",
   "execution_count": 82,
   "metadata": {},
   "outputs": [
    {
     "data": {
      "text/html": [
       "<div>\n",
       "<style>\n",
       "    .dataframe thead tr:only-child th {\n",
       "        text-align: right;\n",
       "    }\n",
       "\n",
       "    .dataframe thead th {\n",
       "        text-align: left;\n",
       "    }\n",
       "\n",
       "    .dataframe tbody tr th {\n",
       "        vertical-align: top;\n",
       "    }\n",
       "</style>\n",
       "<table border=\"1\" class=\"dataframe\">\n",
       "  <thead>\n",
       "    <tr style=\"text-align: right;\">\n",
       "      <th></th>\n",
       "      <th>favorite_count</th>\n",
       "      <th>id_str</th>\n",
       "      <th>is_retweet</th>\n",
       "      <th>retweet_count</th>\n",
       "      <th>source</th>\n",
       "      <th>text</th>\n",
       "      <th>compound_sentiment</th>\n",
       "    </tr>\n",
       "    <tr>\n",
       "      <th>created_at</th>\n",
       "      <th></th>\n",
       "      <th></th>\n",
       "      <th></th>\n",
       "      <th></th>\n",
       "      <th></th>\n",
       "      <th></th>\n",
       "      <th></th>\n",
       "    </tr>\n",
       "  </thead>\n",
       "  <tbody>\n",
       "    <tr>\n",
       "      <th>2017-07-02 13:21:42</th>\n",
       "      <td>605098</td>\n",
       "      <td>881503147168071680</td>\n",
       "      <td>False</td>\n",
       "      <td>369530</td>\n",
       "      <td>Twitter for iPhone</td>\n",
       "      <td>#FraudNewsCNN #FNN https://t.co/WYUnHjjUjg</td>\n",
       "      <td>0.0000</td>\n",
       "    </tr>\n",
       "    <tr>\n",
       "      <th>2017-11-12 00:48:01</th>\n",
       "      <td>616217</td>\n",
       "      <td>929511061954297856</td>\n",
       "      <td>False</td>\n",
       "      <td>272776</td>\n",
       "      <td>Twitter Web Client</td>\n",
       "      <td>Why would Kim Jong-un insult me by calling me ...</td>\n",
       "      <td>0.1528</td>\n",
       "    </tr>\n",
       "    <tr>\n",
       "      <th>2017-05-31 04:06:25</th>\n",
       "      <td>162788</td>\n",
       "      <td>869766994899468288</td>\n",
       "      <td>False</td>\n",
       "      <td>127507</td>\n",
       "      <td>Twitter for iPhone</td>\n",
       "      <td>Despite the constant negative press covfefe</td>\n",
       "      <td>-0.5719</td>\n",
       "    </tr>\n",
       "    <tr>\n",
       "      <th>2017-11-06 23:03:35</th>\n",
       "      <td>120715</td>\n",
       "      <td>927672843504177152</td>\n",
       "      <td>False</td>\n",
       "      <td>98277</td>\n",
       "      <td>Twitter for iPhone</td>\n",
       "      <td>I have great confidence in King Salman and the...</td>\n",
       "      <td>0.8126</td>\n",
       "    </tr>\n",
       "    <tr>\n",
       "      <th>2017-05-20 09:44:31</th>\n",
       "      <td>104413</td>\n",
       "      <td>865865814099939328</td>\n",
       "      <td>False</td>\n",
       "      <td>97922</td>\n",
       "      <td>Twitter for iPhone</td>\n",
       "      <td>Great to be in Riyadh, Saudi Arabia. Looking f...</td>\n",
       "      <td>0.6249</td>\n",
       "    </tr>\n",
       "  </tbody>\n",
       "</table>\n",
       "</div>"
      ],
      "text/plain": [
       "                     favorite_count              id_str  is_retweet  \\\n",
       "created_at                                                            \n",
       "2017-07-02 13:21:42          605098  881503147168071680       False   \n",
       "2017-11-12 00:48:01          616217  929511061954297856       False   \n",
       "2017-05-31 04:06:25          162788  869766994899468288       False   \n",
       "2017-11-06 23:03:35          120715  927672843504177152       False   \n",
       "2017-05-20 09:44:31          104413  865865814099939328       False   \n",
       "\n",
       "                     retweet_count              source  \\\n",
       "created_at                                               \n",
       "2017-07-02 13:21:42         369530  Twitter for iPhone   \n",
       "2017-11-12 00:48:01         272776  Twitter Web Client   \n",
       "2017-05-31 04:06:25         127507  Twitter for iPhone   \n",
       "2017-11-06 23:03:35          98277  Twitter for iPhone   \n",
       "2017-05-20 09:44:31          97922  Twitter for iPhone   \n",
       "\n",
       "                                                                  text  \\\n",
       "created_at                                                               \n",
       "2017-07-02 13:21:42         #FraudNewsCNN #FNN https://t.co/WYUnHjjUjg   \n",
       "2017-11-12 00:48:01  Why would Kim Jong-un insult me by calling me ...   \n",
       "2017-05-31 04:06:25        Despite the constant negative press covfefe   \n",
       "2017-11-06 23:03:35  I have great confidence in King Salman and the...   \n",
       "2017-05-20 09:44:31  Great to be in Riyadh, Saudi Arabia. Looking f...   \n",
       "\n",
       "                     compound_sentiment  \n",
       "created_at                               \n",
       "2017-07-02 13:21:42              0.0000  \n",
       "2017-11-12 00:48:01              0.1528  \n",
       "2017-05-31 04:06:25             -0.5719  \n",
       "2017-11-06 23:03:35              0.8126  \n",
       "2017-05-20 09:44:31              0.6249  "
      ]
     },
     "execution_count": 82,
     "metadata": {},
     "output_type": "execute_result"
    }
   ],
   "source": [
    "tweets.sort_values('retweet_count',ascending=False)[:5]"
   ]
  },
  {
   "cell_type": "code",
   "execution_count": null,
   "metadata": {
    "collapsed": true
   },
   "outputs": [],
   "source": [
    "# Exercise: Redo the plots and sorting, but this time \n",
    "# the column with the name favourite count"
   ]
  },
  {
   "cell_type": "markdown",
   "metadata": {},
   "source": [
    "## Test Vader Sentiment Analyzer\n",
    "[from Github](https://github.com/cjhutto/vaderSentiment): VADER (Valence Aware Dictionary and sEntiment Reasoner) is a lexicon and rule-based sentiment analysis tool that is specifically attuned to sentiments expressed in social media.\n",
    "\n",
    "\n",
    "\n",
    "Can you trick the system? Not very easy isn't it?!"
   ]
  },
  {
   "cell_type": "code",
   "execution_count": 19,
   "metadata": {},
   "outputs": [],
   "source": [
    "from nltk.sentiment import vader\n",
    "analyzer = vader.SentimentIntensityAnalyzer()"
   ]
  },
  {
   "cell_type": "code",
   "execution_count": 23,
   "metadata": {},
   "outputs": [
    {
     "name": "stdout",
     "output_type": "stream",
     "text": [
      "I am very very very happy! Oh so happy.__________________________ 0.885\n"
     ]
    }
   ],
   "source": [
    "text = \"I am very very very happy! Oh so happy.\"\n",
    "vs = analyzer.polarity_scores(text)['compound']\n",
    "print(\"{:_<65} {}\".format(text, str(vs)))"
   ]
  },
  {
   "cell_type": "markdown",
   "metadata": {},
   "source": [
    "Now we can easily calculate the sentiment of Trump's tweets. "
   ]
  },
  {
   "cell_type": "code",
   "execution_count": 26,
   "metadata": {},
   "outputs": [],
   "source": [
    "compound_sentiment = lambda x: analyzer.polarity_scores(x)['compound']\n",
    "tweets['compound_sentiment'] = trump_tweets['text'].apply(compound_sentiment)"
   ]
  },
  {
   "cell_type": "code",
   "execution_count": null,
   "metadata": {
    "collapsed": true
   },
   "outputs": [],
   "source": [
    "# print the ten first lines of the tweets table\n",
    "# you should see a new column"
   ]
  },
  {
   "cell_type": "code",
   "execution_count": 27,
   "metadata": {},
   "outputs": [
    {
     "data": {
      "text/html": [
       "<div>\n",
       "<style>\n",
       "    .dataframe thead tr:only-child th {\n",
       "        text-align: right;\n",
       "    }\n",
       "\n",
       "    .dataframe thead th {\n",
       "        text-align: left;\n",
       "    }\n",
       "\n",
       "    .dataframe tbody tr th {\n",
       "        vertical-align: top;\n",
       "    }\n",
       "</style>\n",
       "<table border=\"1\" class=\"dataframe\">\n",
       "  <thead>\n",
       "    <tr style=\"text-align: right;\">\n",
       "      <th></th>\n",
       "      <th>favorite_count</th>\n",
       "      <th>id_str</th>\n",
       "      <th>is_retweet</th>\n",
       "      <th>retweet_count</th>\n",
       "      <th>source</th>\n",
       "      <th>text</th>\n",
       "      <th>compound_sentiment</th>\n",
       "    </tr>\n",
       "    <tr>\n",
       "      <th>created_at</th>\n",
       "      <th></th>\n",
       "      <th></th>\n",
       "      <th></th>\n",
       "      <th></th>\n",
       "      <th></th>\n",
       "      <th></th>\n",
       "      <th></th>\n",
       "    </tr>\n",
       "  </thead>\n",
       "  <tbody>\n",
       "    <tr>\n",
       "      <th>2017-09-07 12:33:12</th>\n",
       "      <td>81964</td>\n",
       "      <td>905770927526432768</td>\n",
       "      <td>False</td>\n",
       "      <td>16584</td>\n",
       "      <td>Twitter for iPhone</td>\n",
       "      <td>Hurricane Irma is raging but we have great tea...</td>\n",
       "      <td>0.9805</td>\n",
       "    </tr>\n",
       "    <tr>\n",
       "      <th>2017-08-25 00:21:42</th>\n",
       "      <td>61284</td>\n",
       "      <td>900875799292776448</td>\n",
       "      <td>False</td>\n",
       "      <td>12389</td>\n",
       "      <td>Media Studio</td>\n",
       "      <td>A GREAT HONOR to spend time with our BRAVE HER...</td>\n",
       "      <td>0.9757</td>\n",
       "    </tr>\n",
       "    <tr>\n",
       "      <th>2017-10-18 02:21:16</th>\n",
       "      <td>63961</td>\n",
       "      <td>920474831749025792</td>\n",
       "      <td>False</td>\n",
       "      <td>17935</td>\n",
       "      <td>Media Studio</td>\n",
       "      <td>The most important truth our FOUNDERS understo...</td>\n",
       "      <td>0.9747</td>\n",
       "    </tr>\n",
       "    <tr>\n",
       "      <th>2017-07-27 22:49:05</th>\n",
       "      <td>63785</td>\n",
       "      <td>890705628716466176</td>\n",
       "      <td>False</td>\n",
       "      <td>13266</td>\n",
       "      <td>Media Studio</td>\n",
       "      <td>It was my great HONOR to present our nation's ...</td>\n",
       "      <td>0.9735</td>\n",
       "    </tr>\n",
       "    <tr>\n",
       "      <th>2017-09-15 23:54:00</th>\n",
       "      <td>90587</td>\n",
       "      <td>908841360131743744</td>\n",
       "      <td>False</td>\n",
       "      <td>21656</td>\n",
       "      <td>Media Studio</td>\n",
       "      <td>HAPPY 70th BIRTHDAY to the @USAirForce! The Am...</td>\n",
       "      <td>0.9733</td>\n",
       "    </tr>\n",
       "    <tr>\n",
       "      <th>2017-09-03 01:55:30</th>\n",
       "      <td>140941</td>\n",
       "      <td>904160894661296128</td>\n",
       "      <td>False</td>\n",
       "      <td>42565</td>\n",
       "      <td>Twitter for iPhone</td>\n",
       "      <td>Together, we will prevail in the GREAT state o...</td>\n",
       "      <td>0.9721</td>\n",
       "    </tr>\n",
       "    <tr>\n",
       "      <th>2017-11-10 09:32:07</th>\n",
       "      <td>52585</td>\n",
       "      <td>928918183104225280</td>\n",
       "      <td>False</td>\n",
       "      <td>11448</td>\n",
       "      <td>Twitter Web Client</td>\n",
       "      <td>Throughout my travels, I've had the pleasure o...</td>\n",
       "      <td>0.9698</td>\n",
       "    </tr>\n",
       "    <tr>\n",
       "      <th>2017-08-24 22:39:59</th>\n",
       "      <td>21541</td>\n",
       "      <td>900850201384157184</td>\n",
       "      <td>False</td>\n",
       "      <td>4894</td>\n",
       "      <td>Media Studio</td>\n",
       "      <td>A great honor to spend time with our brave HER...</td>\n",
       "      <td>0.9685</td>\n",
       "    </tr>\n",
       "    <tr>\n",
       "      <th>2017-01-22 12:35:09</th>\n",
       "      <td>127677</td>\n",
       "      <td>823146987117772800</td>\n",
       "      <td>False</td>\n",
       "      <td>16906</td>\n",
       "      <td>Twitter for Android</td>\n",
       "      <td>Had a great meeting at CIA Headquarters yester...</td>\n",
       "      <td>0.9679</td>\n",
       "    </tr>\n",
       "    <tr>\n",
       "      <th>2017-02-02 11:25:40</th>\n",
       "      <td>123763</td>\n",
       "      <td>827115768202534912</td>\n",
       "      <td>False</td>\n",
       "      <td>16711</td>\n",
       "      <td>Twitter for Android</td>\n",
       "      <td>Attending Chief Ryan Owens' Dignified Transfer...</td>\n",
       "      <td>0.9674</td>\n",
       "    </tr>\n",
       "  </tbody>\n",
       "</table>\n",
       "</div>"
      ],
      "text/plain": [
       "                     favorite_count              id_str  is_retweet  \\\n",
       "created_at                                                            \n",
       "2017-09-07 12:33:12           81964  905770927526432768       False   \n",
       "2017-08-25 00:21:42           61284  900875799292776448       False   \n",
       "2017-10-18 02:21:16           63961  920474831749025792       False   \n",
       "2017-07-27 22:49:05           63785  890705628716466176       False   \n",
       "2017-09-15 23:54:00           90587  908841360131743744       False   \n",
       "2017-09-03 01:55:30          140941  904160894661296128       False   \n",
       "2017-11-10 09:32:07           52585  928918183104225280       False   \n",
       "2017-08-24 22:39:59           21541  900850201384157184       False   \n",
       "2017-01-22 12:35:09          127677  823146987117772800       False   \n",
       "2017-02-02 11:25:40          123763  827115768202534912       False   \n",
       "\n",
       "                     retweet_count               source  \\\n",
       "created_at                                                \n",
       "2017-09-07 12:33:12          16584   Twitter for iPhone   \n",
       "2017-08-25 00:21:42          12389         Media Studio   \n",
       "2017-10-18 02:21:16          17935         Media Studio   \n",
       "2017-07-27 22:49:05          13266         Media Studio   \n",
       "2017-09-15 23:54:00          21656         Media Studio   \n",
       "2017-09-03 01:55:30          42565   Twitter for iPhone   \n",
       "2017-11-10 09:32:07          11448   Twitter Web Client   \n",
       "2017-08-24 22:39:59           4894         Media Studio   \n",
       "2017-01-22 12:35:09          16906  Twitter for Android   \n",
       "2017-02-02 11:25:40          16711  Twitter for Android   \n",
       "\n",
       "                                                                  text  \\\n",
       "created_at                                                               \n",
       "2017-09-07 12:33:12  Hurricane Irma is raging but we have great tea...   \n",
       "2017-08-25 00:21:42  A GREAT HONOR to spend time with our BRAVE HER...   \n",
       "2017-10-18 02:21:16  The most important truth our FOUNDERS understo...   \n",
       "2017-07-27 22:49:05  It was my great HONOR to present our nation's ...   \n",
       "2017-09-15 23:54:00  HAPPY 70th BIRTHDAY to the @USAirForce! The Am...   \n",
       "2017-09-03 01:55:30  Together, we will prevail in the GREAT state o...   \n",
       "2017-11-10 09:32:07  Throughout my travels, I've had the pleasure o...   \n",
       "2017-08-24 22:39:59  A great honor to spend time with our brave HER...   \n",
       "2017-01-22 12:35:09  Had a great meeting at CIA Headquarters yester...   \n",
       "2017-02-02 11:25:40  Attending Chief Ryan Owens' Dignified Transfer...   \n",
       "\n",
       "                     compound_sentiment  \n",
       "created_at                               \n",
       "2017-09-07 12:33:12              0.9805  \n",
       "2017-08-25 00:21:42              0.9757  \n",
       "2017-10-18 02:21:16              0.9747  \n",
       "2017-07-27 22:49:05              0.9735  \n",
       "2017-09-15 23:54:00              0.9733  \n",
       "2017-09-03 01:55:30              0.9721  \n",
       "2017-11-10 09:32:07              0.9698  \n",
       "2017-08-24 22:39:59              0.9685  \n",
       "2017-01-22 12:35:09              0.9679  \n",
       "2017-02-02 11:25:40              0.9674  "
      ]
     },
     "execution_count": 27,
     "metadata": {},
     "output_type": "execute_result"
    }
   ],
   "source": [
    "# Exercise Print the 10 most positive and 10 most negative tweets by tinkering with the code below\n",
    "# tweets.sort_values(####,ascending=###)[:###]"
   ]
  },
  {
   "cell_type": "markdown",
   "metadata": {},
   "source": [
    "## Indexing and slicing"
   ]
  },
  {
   "cell_type": "markdown",
   "metadata": {},
   "source": [
    "You might have wondered what the squary brackets in ``tweets.sort_values(retweets,ascending=True)``**[:5]** actually meant? Changing the number ``n`` in this case five, as you undoubtedly noticed, impacted the number of rows shown in the Notebook. Actually, here we **sliced** the data, demarcated by the **indices** ``0`` and ``5``.\n",
    "\n",
    "To properly understand these operations, let's have a look at how the work on simple strings."
   ]
  },
  {
   "cell_type": "code",
   "execution_count": 28,
   "metadata": {},
   "outputs": [
    {
     "name": "stdout",
     "output_type": "stream",
     "text": [
      "Naturkatastrophenkonzert\n"
     ]
    }
   ],
   "source": [
    "song = \"Naturkatastrophenkonzert\"\n",
    "print(song)"
   ]
  },
  {
   "cell_type": "markdown",
   "metadata": {},
   "source": [
    "[MK, partyl a recap] Such a piece of text (\"Naturkatastrophenkonzert\") is called a ``'string'`` in Python (cf. a string of characters). Strings in Python must always be enclosed with 'quotes' (either **single** or **double** quotes). *Without those quotes, Python will think it's dealing with the name of some variable that has been defined earlier, because variable names never take quotes.* The following distinction is confusing, but extremely important: variable names (without quotes) and string values (with quotes) look similar, but they serve a completely different purpose. Compare:"
   ]
  },
  {
   "cell_type": "code",
   "execution_count": 30,
   "metadata": {
    "scrolled": true
   },
   "outputs": [
    {
     "name": "stdout",
     "output_type": "stream",
     "text": [
      "Doris\n",
      "name\n",
      "D\n"
     ]
    }
   ],
   "source": [
    "name = \"Doris\"\n",
    "Doris = \"name\"\n",
    "D = \"D\"\n",
    "print(name)\n",
    "print (Doris)\n",
    "print(D)"
   ]
  },
  {
   "cell_type": "markdown",
   "metadata": {},
   "source": [
    "Now that you know the differences between variables and string values, we can inspect these strings further. [MK] Strings are called strings because they consist of a series (or ``'string'``) of individual characters. We can access these individual characters in Python with the help of ``'indexing'``, because each character in a string has a unique ``'index'``. To print the first letter of your name, you can type:"
   ]
  },
  {
   "cell_type": "markdown",
   "metadata": {},
   "source": [
    "Now that you know the differences between variables and string values, we can inspect these strings further. [MK] Strings are called strings because they consist of a series (or ``'string'``) of individual characters. We can access these individual characters in Python with the help of ``'indexing'``, because each character in a string has a unique ``'index'``. To print the first letter of your name, you can type:\n",
    "\n",
    "song_startwith = song[0]\n",
    "print(song)\n",
    "print(song_startwith)\n",
    "### Or try:\n",
    "#print(\"Starts with: \",song_startwith)"
   ]
  },
  {
   "cell_type": "markdown",
   "metadata": {},
   "source": [
    "[MK]![Indexes of the string Monty Python starting with 0](https://i.stack.imgur.com/vIKaD.png)\n",
    "Take a look at the string \"Monty Python\". We use the index `0` to access the first character in the string. This might seem odd, but  remember that all indexes in Python start at zero. Whenever you count in Python, you start at `0` instead of `1`. Note that the space character gets an index too, namely 2. This is something you will have to get used to!\n",
    "\n",
    "Because you know the length of your name you can ask for the last letter of \"Naturkatastrophenkonzert\": "
   ]
  },
  {
   "cell_type": "code",
   "execution_count": 39,
   "metadata": {},
   "outputs": [
    {
     "ename": "SyntaxError",
     "evalue": "unexpected EOF while parsing (<ipython-input-39-1627a75e3bb5>, line 2)",
     "output_type": "error",
     "traceback": [
      "\u001b[0;36m  File \u001b[0;32m\"<ipython-input-39-1627a75e3bb5>\"\u001b[0;36m, line \u001b[0;32m2\u001b[0m\n\u001b[0;31m    print(last_letter)\u001b[0m\n\u001b[0m                      ^\u001b[0m\n\u001b[0;31mSyntaxError\u001b[0m\u001b[0;31m:\u001b[0m unexpected EOF while parsing\n"
     ]
    }
   ],
   "source": [
    "last_letter = song[# fill in the last index of \"Naturkatastrophenkonzert\" (tip indexes start at 0)]\n",
    "print(last_letter)"
   ]
  },
  {
   "cell_type": "markdown",
   "metadata": {},
   "source": [
    "[MK]It is rather inconvenient having to know how long our strings are if we want to find out what its last letter is. Python provides a simple way of accessing a string 'from the rear':"
   ]
  },
  {
   "cell_type": "code",
   "execution_count": null,
   "metadata": {
    "collapsed": true
   },
   "outputs": [],
   "source": [
    "# Exercise print the last letter of your name"
   ]
  },
  {
   "cell_type": "code",
   "execution_count": 40,
   "metadata": {},
   "outputs": [
    {
     "name": "stdout",
     "output_type": "stream",
     "text": [
      "t\n"
     ]
    }
   ],
   "source": [
    "last_letter = song[-1]\n",
    "print(last_letter)"
   ]
  },
  {
   "cell_type": "markdown",
   "metadata": {},
   "source": [
    "[MK]Now can you write some code that defines a variable `but_last_letter` and assigns to this variable the *one but last* letter of your name?"
   ]
  },
  {
   "cell_type": "code",
   "execution_count": null,
   "metadata": {
    "collapsed": true
   },
   "outputs": [],
   "source": [
    "but_last_letter = name[# insert your code here]\n",
    "print(but_last_letter)"
   ]
  },
  {
   "cell_type": "markdown",
   "metadata": {},
   "source": [
    "[MK] You're starting to become a real expert in indexing strings. Now what if we would like to find out what the last two or three letters of our name are? In Python we can use so-called 'slice-indexes' or 'slices' for short. To find the first two letters of our name we type in:"
   ]
  },
  {
   "cell_type": "code",
   "execution_count": null,
   "metadata": {
    "collapsed": true
   },
   "outputs": [],
   "source": [
    "first_two_letters = name[0:2]\n",
    "print(first_two_letters)"
   ]
  },
  {
   "cell_type": "markdown",
   "metadata": {},
   "source": [
    "The `0` index is optional, so we could just as well type in `name[:2]`. This says: take all characters of name until you reach index 2 (i.e. up to the third letter, but not including the third letter). We can also start at index 2 and leave the end index unspecified:"
   ]
  },
  {
   "cell_type": "code",
   "execution_count": null,
   "metadata": {
    "collapsed": true
   },
   "outputs": [],
   "source": [
    "without_first_two_letters = name[2:]\n",
    "print(without_first_two_letters)"
   ]
  },
  {
   "cell_type": "markdown",
   "metadata": {},
   "source": [
    "Because we did not specify the end index, Python continues until it reaches the end of our string. If we would like to find out what the last two letters of our name are, we can type in:"
   ]
  },
  {
   "cell_type": "code",
   "execution_count": null,
   "metadata": {
    "collapsed": true
   },
   "outputs": [],
   "source": [
    "last_two_letters = name[-2:]\n",
    "print(last_two_letters)"
   ]
  },
  {
   "cell_type": "markdown",
   "metadata": {},
   "source": [
    "Indexing and slicing applies to other datatypes than strings. However, the exact mechanic might differ. \n",
    "First we inspect the data type of the twitter corpus."
   ]
  },
  {
   "cell_type": "code",
   "execution_count": 47,
   "metadata": {},
   "outputs": [
    {
     "data": {
      "text/plain": [
       "pandas.core.frame.DataFrame"
      ]
     },
     "execution_count": 47,
     "metadata": {},
     "output_type": "execute_result"
    }
   ],
   "source": [
    "type(tweets)"
   ]
  },
  {
   "cell_type": "markdown",
   "metadata": {},
   "source": [
    "...which, as you can see is a pandas DataFrame object. However we can still select items by using a similar syntax as with strings. \n",
    "Below we can want to inspect the most "
   ]
  },
  {
   "cell_type": "code",
   "execution_count": 48,
   "metadata": {},
   "outputs": [
    {
     "name": "stdout",
     "output_type": "stream",
     "text": [
      "favorite_count                                                    81964\n",
      "id_str                                               905770927526432768\n",
      "is_retweet                                                        False\n",
      "retweet_count                                                     16584\n",
      "source                                               Twitter for iPhone\n",
      "text                  Hurricane Irma is raging but we have great tea...\n",
      "compound_sentiment                                               0.9805\n",
      "Name: 2017-09-07 12:33:12, dtype: object\n"
     ]
    }
   ],
   "source": [
    "# fetch a row\n",
    "#print(tweets.iloc[0])\n",
    "sorted_by_retweet = tweets.sort_values('compound_sentiment',ascending=False)\n",
    "print(sorted_by_retweet.iloc[0])"
   ]
  },
  {
   "cell_type": "code",
   "execution_count": 50,
   "metadata": {},
   "outputs": [
    {
     "name": "stdout",
     "output_type": "stream",
     "text": [
      "Hurricane Irma is raging but we have great teams of talented and brave people already in place and ready to help. Be careful, be safe! #FEMA\n"
     ]
    }
   ],
   "source": [
    "print(sorted_by_emotion.iloc[0]['text'])"
   ]
  },
  {
   "cell_type": "code",
   "execution_count": 51,
   "metadata": {},
   "outputs": [
    {
     "name": "stdout",
     "output_type": "stream",
     "text": [
      "Hurricane Irma is raging but we have great teams of talented and brave people already in place and ready to help. Be careful, be safe! #FEMA\n"
     ]
    }
   ],
   "source": [
    "print(sorted_by_emotion.iloc[0].text)"
   ]
  },
  {
   "cell_type": "code",
   "execution_count": 10,
   "metadata": {},
   "outputs": [
    {
     "data": {
      "text/plain": [
       "0    The Tax Cut Bill is coming along very well, gr...\n",
       "1    The good news is that their ratings are terrib...\n",
       "2    We should have a contest as to which of the Ne...\n",
       "3    Back in D.C., big week for Tax Cuts and many o...\n",
       "Name: text, dtype: object"
      ]
     },
     "execution_count": 10,
     "metadata": {},
     "output_type": "execute_result"
    }
   ],
   "source": [
    "tweets.iloc[0:4]['text']"
   ]
  },
  {
   "cell_type": "code",
   "execution_count": 109,
   "metadata": {},
   "outputs": [
    {
     "data": {
      "text/plain": [
       "0.1590667424947021"
      ]
     },
     "execution_count": 109,
     "metadata": {},
     "output_type": "execute_result"
    }
   ],
   "source": [
    "neg_sentiment = lambda x: analyzer.polarity_scores(x)['neg']\n",
    "trump_tweets['neg_sentiment'] = trump_tweets['text'].apply(neg_sentiment)"
   ]
  },
  {
   "cell_type": "code",
   "execution_count": 60,
   "metadata": {},
   "outputs": [
    {
     "data": {
      "text/plain": [
       "104"
      ]
     },
     "execution_count": 60,
     "metadata": {},
     "output_type": "execute_result"
    }
   ],
   "source": [
    "contains_word = lambda x,w: x.lower().find(w)\n",
    "trump_tweets['contains_obama'] = trump_tweets['text'].apply(contains_word,w='obama')\n",
    "about_obama = trump_tweets[trump_tweets.contains_obama > 0]\n",
    "len(about_obama)"
   ]
  },
  {
   "cell_type": "code",
   "execution_count": 61,
   "metadata": {},
   "outputs": [
    {
     "data": {
      "text/plain": [
       "(104, 8)"
      ]
     },
     "execution_count": 61,
     "metadata": {},
     "output_type": "execute_result"
    }
   ],
   "source": [
    "def contains_word(text,word):\n",
    "    if text.lower().find(word) > 0:\n",
    "        return 1\n",
    "    return 0\n",
    "    \n",
    "trump_tweets['obama'] = trump_tweets['text'].apply(contains_word,word='obama')\n",
    "about_obama = trump_tweets[trump_tweets.obama==True]\n",
    "about_obama.shape"
   ]
  },
  {
   "cell_type": "code",
   "execution_count": 150,
   "metadata": {},
   "outputs": [
    {
     "data": {
      "text/plain": [
       "<matplotlib.axes._subplots.AxesSubplot at 0x1a1b841940>"
      ]
     },
     "execution_count": 150,
     "metadata": {},
     "output_type": "execute_result"
    },
    {
     "data": {
      "image/png": "[encoded data removed]",
      "text/plain": [
       "<matplotlib.figure.Figure at 0x1a1b8369e8>"
      ]
     },
     "metadata": {},
     "output_type": "display_data"
    }
   ],
   "source": [
    "#trump_tweets.groupby('obama')['neg_sentiment'].mean()\n",
    "about_obama.compound_sentiment.mean()\n",
    "trump_tweets[['obama','neg_sentiment']].boxplot()"
   ]
  },
  {
   "cell_type": "code",
   "execution_count": 153,
   "metadata": {
    "collapsed": true
   },
   "outputs": [],
   "source": [
    "# simple content analysis\n",
    "# processing text\n",
    "from nltk.tokenize import word_tokenize\n",
    "upper_words = []\n",
    "for tweet_text in trump_tweets.text:\n",
    "    tweet_tokens = word_tokenize(tweet_text)\n",
    "    for tweet_token in tweet_tokens:\n",
    "        if tweet_token.isupper() and len(tweet_token) > 2:\n",
    "            upper_words.append(tweet_token)\n"
   ]
  },
  {
   "cell_type": "code",
   "execution_count": 158,
   "metadata": {},
   "outputs": [
    {
     "data": {
      "text/plain": [
       "[('U.S.', 120),\n",
       " ('GREAT', 84),\n",
       " ('AMERICA', 53),\n",
       " ('MAKE', 45),\n",
       " ('AGAIN', 43),\n",
       " ('JOBS', 43),\n",
       " ('NEWS', 42),\n",
       " ('FAKE', 41),\n",
       " ('POTUS', 40),\n",
       " ('FLOTUS', 35)]"
      ]
     },
     "execution_count": 158,
     "metadata": {},
     "output_type": "execute_result"
    }
   ],
   "source": [
    "from collections import Counter\n",
    "Counter(upper_words).most_common(10)"
   ]
  },
  {
   "cell_type": "code",
   "execution_count": 170,
   "metadata": {},
   "outputs": [
    {
     "data": {
      "text/html": [
       "<div>\n",
       "<style>\n",
       "    .dataframe thead tr:only-child th {\n",
       "        text-align: right;\n",
       "    }\n",
       "\n",
       "    .dataframe thead th {\n",
       "        text-align: left;\n",
       "    }\n",
       "\n",
       "    .dataframe tbody tr th {\n",
       "        vertical-align: top;\n",
       "    }\n",
       "</style>\n",
       "<table border=\"1\" class=\"dataframe\">\n",
       "  <thead>\n",
       "    <tr style=\"text-align: right;\">\n",
       "      <th></th>\n",
       "      <th>created_at</th>\n",
       "      <th>favorite_count</th>\n",
       "      <th>id_str</th>\n",
       "      <th>is_retweet</th>\n",
       "      <th>retweet_count</th>\n",
       "      <th>source</th>\n",
       "      <th>text</th>\n",
       "      <th>uppers</th>\n",
       "    </tr>\n",
       "    <tr>\n",
       "      <th>created_at</th>\n",
       "      <th></th>\n",
       "      <th></th>\n",
       "      <th></th>\n",
       "      <th></th>\n",
       "      <th></th>\n",
       "      <th></th>\n",
       "      <th></th>\n",
       "      <th></th>\n",
       "    </tr>\n",
       "  </thead>\n",
       "  <tbody>\n",
       "    <tr>\n",
       "      <th>2017-11-23 11:44:36</th>\n",
       "      <td>2017-11-23 11:44:36</td>\n",
       "      <td>147741</td>\n",
       "      <td>933662564587855872</td>\n",
       "      <td>False</td>\n",
       "      <td>37342</td>\n",
       "      <td>Twitter for iPhone</td>\n",
       "      <td>MAKE AMERICA GREAT AGAIN!</td>\n",
       "      <td>0.840000</td>\n",
       "    </tr>\n",
       "    <tr>\n",
       "      <th>2017-06-24 21:23:52</th>\n",
       "      <td>2017-06-24 21:23:52</td>\n",
       "      <td>162744</td>\n",
       "      <td>878725385235701760</td>\n",
       "      <td>False</td>\n",
       "      <td>46890</td>\n",
       "      <td>Twitter for iPhone</td>\n",
       "      <td>MAKE AMERICA GREAT AGAIN!</td>\n",
       "      <td>0.840000</td>\n",
       "    </tr>\n",
       "    <tr>\n",
       "      <th>2017-02-04 14:26:10</th>\n",
       "      <td>2017-02-04 14:26:10</td>\n",
       "      <td>255896</td>\n",
       "      <td>827885966509604864</td>\n",
       "      <td>False</td>\n",
       "      <td>66140</td>\n",
       "      <td>Twitter for Android</td>\n",
       "      <td>MAKE AMERICA GREAT AGAIN!</td>\n",
       "      <td>0.840000</td>\n",
       "    </tr>\n",
       "    <tr>\n",
       "      <th>2017-06-02 01:00:35</th>\n",
       "      <td>2017-06-02 01:00:35</td>\n",
       "      <td>165602</td>\n",
       "      <td>870445001125355520</td>\n",
       "      <td>False</td>\n",
       "      <td>48844</td>\n",
       "      <td>Twitter for iPhone</td>\n",
       "      <td>MAKE AMERICA GREAT AGAIN!</td>\n",
       "      <td>0.840000</td>\n",
       "    </tr>\n",
       "    <tr>\n",
       "      <th>2017-08-16 12:39:07</th>\n",
       "      <td>2017-08-16 12:39:07</td>\n",
       "      <td>175370</td>\n",
       "      <td>897799882802704384</td>\n",
       "      <td>False</td>\n",
       "      <td>52766</td>\n",
       "      <td>Twitter for iPhone</td>\n",
       "      <td>MAKE AMERICA GREAT AGAIN!</td>\n",
       "      <td>0.840000</td>\n",
       "    </tr>\n",
       "    <tr>\n",
       "      <th>2017-02-20 14:33:33</th>\n",
       "      <td>2017-02-20 14:33:33</td>\n",
       "      <td>242519</td>\n",
       "      <td>833686030679207936</td>\n",
       "      <td>False</td>\n",
       "      <td>48802</td>\n",
       "      <td>Twitter for Android</td>\n",
       "      <td>HAPPY PRESIDENTS DAY - MAKE AMERICA GREAT AGAIN!</td>\n",
       "      <td>0.812500</td>\n",
       "    </tr>\n",
       "    <tr>\n",
       "      <th>2017-03-01 13:38:44</th>\n",
       "      <td>2017-03-01 13:38:44</td>\n",
       "      <td>183969</td>\n",
       "      <td>836933725602656256</td>\n",
       "      <td>False</td>\n",
       "      <td>27371</td>\n",
       "      <td>Twitter for Android</td>\n",
       "      <td>THANK YOU!</td>\n",
       "      <td>0.800000</td>\n",
       "    </tr>\n",
       "    <tr>\n",
       "      <th>2017-01-14 13:14:13</th>\n",
       "      <td>2017-01-14 13:14:13</td>\n",
       "      <td>68388</td>\n",
       "      <td>820257714362314752</td>\n",
       "      <td>False</td>\n",
       "      <td>19016</td>\n",
       "      <td>Twitter for Android</td>\n",
       "      <td>INTELLIGENCE INSIDERS NOW CLAIM THE TRUMP DOSS...</td>\n",
       "      <td>0.797468</td>\n",
       "    </tr>\n",
       "    <tr>\n",
       "      <th>2017-01-11 01:19:23</th>\n",
       "      <td>2017-01-11 01:19:23</td>\n",
       "      <td>93960</td>\n",
       "      <td>818990655418617856</td>\n",
       "      <td>False</td>\n",
       "      <td>29205</td>\n",
       "      <td>Twitter for Android</td>\n",
       "      <td>FAKE NEWS - A TOTAL POLITICAL WITCH HUNT!</td>\n",
       "      <td>0.780488</td>\n",
       "    </tr>\n",
       "    <tr>\n",
       "      <th>2017-02-09 23:35:49</th>\n",
       "      <td>2017-02-09 23:35:49</td>\n",
       "      <td>237614</td>\n",
       "      <td>829836231802515456</td>\n",
       "      <td>False</td>\n",
       "      <td>67448</td>\n",
       "      <td>Twitter for Android</td>\n",
       "      <td>SEE YOU IN COURT, THE SECURITY OF OUR NATION I...</td>\n",
       "      <td>0.771930</td>\n",
       "    </tr>\n",
       "  </tbody>\n",
       "</table>\n",
       "</div>"
      ],
      "text/plain": [
       "                             created_at  favorite_count              id_str  \\\n",
       "created_at                                                                    \n",
       "2017-11-23 11:44:36 2017-11-23 11:44:36          147741  933662564587855872   \n",
       "2017-06-24 21:23:52 2017-06-24 21:23:52          162744  878725385235701760   \n",
       "2017-02-04 14:26:10 2017-02-04 14:26:10          255896  827885966509604864   \n",
       "2017-06-02 01:00:35 2017-06-02 01:00:35          165602  870445001125355520   \n",
       "2017-08-16 12:39:07 2017-08-16 12:39:07          175370  897799882802704384   \n",
       "2017-02-20 14:33:33 2017-02-20 14:33:33          242519  833686030679207936   \n",
       "2017-03-01 13:38:44 2017-03-01 13:38:44          183969  836933725602656256   \n",
       "2017-01-14 13:14:13 2017-01-14 13:14:13           68388  820257714362314752   \n",
       "2017-01-11 01:19:23 2017-01-11 01:19:23           93960  818990655418617856   \n",
       "2017-02-09 23:35:49 2017-02-09 23:35:49          237614  829836231802515456   \n",
       "\n",
       "                     is_retweet  retweet_count               source  \\\n",
       "created_at                                                            \n",
       "2017-11-23 11:44:36       False          37342   Twitter for iPhone   \n",
       "2017-06-24 21:23:52       False          46890   Twitter for iPhone   \n",
       "2017-02-04 14:26:10       False          66140  Twitter for Android   \n",
       "2017-06-02 01:00:35       False          48844   Twitter for iPhone   \n",
       "2017-08-16 12:39:07       False          52766   Twitter for iPhone   \n",
       "2017-02-20 14:33:33       False          48802  Twitter for Android   \n",
       "2017-03-01 13:38:44       False          27371  Twitter for Android   \n",
       "2017-01-14 13:14:13       False          19016  Twitter for Android   \n",
       "2017-01-11 01:19:23       False          29205  Twitter for Android   \n",
       "2017-02-09 23:35:49       False          67448  Twitter for Android   \n",
       "\n",
       "                                                                  text  \\\n",
       "created_at                                                               \n",
       "2017-11-23 11:44:36                          MAKE AMERICA GREAT AGAIN!   \n",
       "2017-06-24 21:23:52                          MAKE AMERICA GREAT AGAIN!   \n",
       "2017-02-04 14:26:10                          MAKE AMERICA GREAT AGAIN!   \n",
       "2017-06-02 01:00:35                          MAKE AMERICA GREAT AGAIN!   \n",
       "2017-08-16 12:39:07                          MAKE AMERICA GREAT AGAIN!   \n",
       "2017-02-20 14:33:33   HAPPY PRESIDENTS DAY - MAKE AMERICA GREAT AGAIN!   \n",
       "2017-03-01 13:38:44                                         THANK YOU!   \n",
       "2017-01-14 13:14:13  INTELLIGENCE INSIDERS NOW CLAIM THE TRUMP DOSS...   \n",
       "2017-01-11 01:19:23          FAKE NEWS - A TOTAL POLITICAL WITCH HUNT!   \n",
       "2017-02-09 23:35:49  SEE YOU IN COURT, THE SECURITY OF OUR NATION I...   \n",
       "\n",
       "                       uppers  \n",
       "created_at                     \n",
       "2017-11-23 11:44:36  0.840000  \n",
       "2017-06-24 21:23:52  0.840000  \n",
       "2017-02-04 14:26:10  0.840000  \n",
       "2017-06-02 01:00:35  0.840000  \n",
       "2017-08-16 12:39:07  0.840000  \n",
       "2017-02-20 14:33:33  0.812500  \n",
       "2017-03-01 13:38:44  0.800000  \n",
       "2017-01-14 13:14:13  0.797468  \n",
       "2017-01-11 01:19:23  0.780488  \n",
       "2017-02-09 23:35:49  0.771930  "
      ]
     },
     "execution_count": 170,
     "metadata": {},
     "output_type": "execute_result"
    }
   ],
   "source": [
    "def count_upper(text):\n",
    "    uppers = []\n",
    "    for char in text:\n",
    "        if char.isupper():\n",
    "            uppers.append(char)\n",
    "    return len(uppers)/len(text)\n",
    "trump_tweets = trump_tweets[trump_tweets.is_retweet==False]\n",
    "\n",
    "trump_tweets['uppers'] = trump_tweets.text.apply(count_upper)\n",
    "trump_tweets.sort_values('uppers',ascending=False)[:10]"
   ]
  },
  {
   "cell_type": "code",
   "execution_count": null,
   "metadata": {
    "collapsed": true
   },
   "outputs": [],
   "source": [
    "from IPython.core.display import HTML\n",
    "def css_styling():\n",
    "    styles = open(\"styles/custom.css\", \"r\").read()\n",
    "    return HTML(styles)\n",
    "css_styling()"
   ]
  }
 ],
 "metadata": {
  "kernelspec": {
   "display_name": "Python 3",
   "language": "python",
   "name": "python3"
  },
  "language_info": {
   "codemirror_mode": {
    "name": "ipython",
    "version": 3
   },
   "file_extension": ".py",
   "mimetype": "text/x-python",
   "name": "python",
   "nbconvert_exporter": "python",
   "pygments_lexer": "ipython3",
   "version": "3.6.3"
  }
 },
 "nbformat": 4,
 "nbformat_minor": 1
}
